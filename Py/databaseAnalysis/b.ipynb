{
 "cells": [
  {
   "cell_type": "code",
   "execution_count": null,
   "metadata": {},
   "outputs": [],
   "source": [
    "x=[x if x%2==0 else -x for x in range(11)]\n",
    "# for 前面的if...else 为表达式，必须要if后面跟else\n",
    "print(x)\n",
    "y=[y for y in range(11) if y%2==0]\n",
    "# for 后面的if为筛选条件，不能加else\n",
    "print(y)"
   ]
  },
  {
   "cell_type": "code",
   "execution_count": null,
   "metadata": {},
   "outputs": [],
   "source": [
    "g=(x for x in range(10))\n",
    "# 括号  生成器\n",
    "print(next(g))\n",
    "# 访问通过next，获得generator的下一个返回值\n",
    "# generator保存的是算法，每次调用next(g)，就计算出g的下一个元素的值，直到计算到最后一个元素，没有更多的元素时，抛出StopIteration的错误\n",
    "print(next(g))\n",
    "print(next(g))\n",
    "print(next(g))\n",
    "print(next(g))\n",
    "for i in g:\n",
    "    # 此时for 循环就会从 5开始\n",
    "    print(i)"
   ]
  },
  {
   "cell_type": "code",
   "execution_count": null,
   "metadata": {},
   "outputs": [],
   "source": [
    "import numpy as np\n",
    "a=np.array([[1,2,3],[2,3,4],[3,4,5]])\n",
    "print(np.sum(a))\n",
    "# 所有元素的和\n",
    "print(np.prod(a))\n",
    "# 所有元素的乘积\n",
    "print(np.diff(a))\n",
    "# 相邻元素之间的差\n",
    "print(np.sqrt(a))\n",
    "# 各元素的平方根\n",
    "print(np.exp(a))\n",
    "# 各元素的指数值\n",
    "print(np.abs(a))\n",
    "# 各元素的绝对值"
   ]
  },
  {
   "cell_type": "code",
   "execution_count": null,
   "metadata": {},
   "outputs": [],
   "source": [
    "import numpy as np \n",
    "t = np.arange(24).reshape(2,3,4)\n",
    "print(t)\n",
    "print(np.sum(t,axis=0))\n",
    "# shape 变成(3,4)\n",
    "print(np.sum(t,axis=1))\n",
    "# shape 变成(2,4)\n",
    "print(np.sum(t,axis=2))\n",
    "# shape 变成(2,3)"
   ]
  },
  {
   "cell_type": "code",
   "execution_count": null,
   "metadata": {},
   "outputs": [],
   "source": [
    "import numpy as np \n",
    "x=np.array([1,2,3])\n",
    "y=np.array([2,3,4])\n",
    "# 在轴0上堆叠 shape 变成(2,3)\n",
    "print(np.stack((x,y),axis=0))\n",
    "# 在轴1上堆叠 shape 变成(3,2)\n",
    "print(np.stack((x,y),axis=1))"
   ]
  },
  {
   "cell_type": "code",
   "execution_count": null,
   "metadata": {},
   "outputs": [],
   "source": [
    "import numpy as np \n",
    "a=np.mat('1 2 3; 4 5 6')\n",
    "# 矩阵 mat(字符串/列表/元组/数组)\n",
    "print(a)\n",
    "b=np.matrix([[1,2,3],[4,5,6]])\n",
    "# 矩阵 matrix(字符串/列表/元组/数组)\n",
    "print(b)\n",
    "print(np.linspace(0,8,9).reshape((3,3))*np.logspace(1,9,9,base=2).reshape((3,3)))\n",
    "# 真正的矩阵相乘运算\n",
    "print(a.T)\n",
    "# 矩阵转置\n",
    "c=np.mat(np.eye(3,3)*5)\n",
    "print(c)\n",
    "print(c.I)\n",
    "# 矩阵求逆"
   ]
  },
  {
   "cell_type": "code",
   "execution_count": null,
   "metadata": {},
   "outputs": [],
   "source": [
    "import numpy as np \n",
    "# 区间均为左闭右开\n",
    "\n",
    "print(np.random.rand(3,3))\n",
    "# [0,1)均匀分布的数组 rand(d0,d1,...,dn)参数表示形状  浮点数\n",
    "print(np.random.uniform(3,7,5))\n",
    "# [3,7)均匀分布的数组 5为size  浮点数\n",
    "print(np.random.randint(3,7, 5))\n",
    "# [3,7)均匀分布的数组 5为size  整数\n",
    "print(np.random.randn(3,3))\n",
    "# 标准正太分布的数组 浮点数 (3,3)为shape\n",
    "print(np.random.normal(2, 2, (3,3)))\n",
    "# (loc,scale,size)均值 标准差 大小  正太分布的数组 浮点数\n",
    "# size指的是shape"
   ]
  },
  {
   "cell_type": "code",
   "execution_count": null,
   "metadata": {},
   "outputs": [],
   "source": [
    "import numpy as np \n",
    "np.random.seed(612)\n",
    "print(np.random.rand(3,3))\n",
    "np.random.seed(612)\n",
    "# 只一次有效\n",
    "print(np.random.rand(3,3))"
   ]
  },
  {
   "cell_type": "code",
   "execution_count": null,
   "metadata": {},
   "outputs": [],
   "source": [
    "import numpy as np \n",
    "t = np.arange(10)\n",
    "print(t)\n",
    "np.random.shuffle(t)\n",
    "# 没有返回值，直接对 t 操作\n",
    "# 如果shape为(4,3) 则只会对axis=0打乱,axis=1的顺序不变\n",
    "print(t)\n",
    "# 打乱顺序序列"
   ]
  },
  {
   "cell_type": "code",
   "execution_count": null,
   "metadata": {},
   "outputs": [],
   "source": [
    "import matplotlib.pyplot as plt\n",
    "plt.figure(figsize=(6,4),facecolor='m')\n",
    "plt.rcParams['font.sans-serif']='KaiTi'\n",
    "plt.suptitle('全局标题')\n",
    "plt.subplot(2,2,1)\n",
    "plt.title('子图一')\n",
    "plt.subplot(2,2,2)\n",
    "plt.title('子图二',rotation=30)\n",
    "myfontdict={\"fontsize\":12,\"color\":\"g\",\"rotation\":30}\n",
    "plt.subplot(2,2,3)\n",
    "plt.title('子图三',fontdict=myfontdict )\n",
    "plt.subplot(2,2,4)\n",
    "plt.title('子图四')\n",
    "plt.tight_layout()\n",
    "plt.show()"
   ]
  },
  {
   "cell_type": "code",
   "execution_count": null,
   "metadata": {},
   "outputs": [],
   "source": [
    "import numpy as np \n",
    "import matplotlib.pyplot as pyplot\n",
    "plt.figure(figsize=(6,4))\n",
    "plt.subplot(1,2,1)\n",
    "x=np.linspace(1,8,8)\n",
    "y=[i**2 for i in x]\n",
    "y2=[i**3 for i in x]\n",
    "plt.plot(x,y,label='y')\n",
    "plt.plot(x,y2,label='y2',marker='*')\n",
    "plt.legend()\n",
    "plt.subplot(1,2,2)\n",
    "y=np.linspace(1,8,8)\n",
    "plt.bar(range(len(y)),y,width=0.8,facecolor='g',label='绿色')\n",
    "plt.show()"
   ]
  },
  {
   "cell_type": "code",
   "execution_count": null,
   "metadata": {},
   "outputs": [],
   "source": [
    "import tensorflow as tf\n",
    "boston_housing = tf.keras.datasets.boston_housing\n",
    "(train_x,train_y),(test_x,test_y) = boston_housing.load_data()"
   ]
  },
  {
   "cell_type": "code",
   "execution_count": null,
   "metadata": {},
   "outputs": [],
   "source": [
    "import pandas as pd \n",
    "f = pd.read_csv('result.csv',header=0)\n",
    "# headers=0指定第一行为列标题\n",
    "f.head()\n",
    "# 读取前五行数据"
   ]
  },
  {
   "cell_type": "code",
   "execution_count": null,
   "metadata": {},
   "outputs": [],
   "source": [
    "import pandas as pd \n",
    "f = pd.read_csv('result.csv',header=0,names=['list title 1','list title 2','list title 3'])\n",
    "# 用自定义列标题替代\n",
    "f.head(8)\n",
    "# 读取前八行\n",
    "f.tail(8)\n",
    "# 后8行\n",
    "print(f.describe())\n",
    "# 显示二维数据的统计信息"
   ]
  },
  {
   "cell_type": "code",
   "execution_count": null,
   "metadata": {},
   "outputs": [],
   "source": [
    "from PIL import Image\n",
    "import numpy as np \n",
    "import matplotlib.pyplot as plt \n",
    "im = Image.open('text.png')\n",
    "plt.imshow(im)\n",
    "plt.show()"
   ]
  },
  {
   "cell_type": "code",
   "execution_count": null,
   "metadata": {},
   "outputs": [],
   "source": [
    "from PIL import Image\n",
    "import numpy as np \n",
    "import matplotlib.pyplot as plt \n",
    "im = Image.open('squares.png')\n",
    "im=im.convert('L')\n",
    "# 转换图像的色彩模式\n",
    "plt.imshow(im)\n",
    "plt.show()"
   ]
  },
  {
   "cell_type": "code",
   "execution_count": null,
   "metadata": {},
   "outputs": [],
   "source": [
    "from PIL import Image\n",
    "import numpy as np \n",
    "import matplotlib.pyplot as plt \n",
    "im = Image.open('squares.png')\n",
    "im_r,im_g,im_b=im.split()\n",
    "plt.imshow(im_r)\n",
    "plt.show()"
   ]
  },
  {
   "cell_type": "code",
   "execution_count": null,
   "metadata": {},
   "outputs": [],
   "source": [
    "from PIL import Image\n",
    "import numpy as np \n",
    "import matplotlib.pyplot as plt \n",
    "im = Image.open('h.jpg')\n",
    "im_r,im_g,im_b=im.split()\n",
    "plt.subplot(2,2,1)\n",
    "plt.imshow(im_r)\n",
    "plt.subplot(2,2,2)\n",
    "plt.imshow(im_g)\n",
    "plt.subplot(2,2,3)\n",
    "plt.imshow(im_b)\n",
    "Im = Image.merge('RGB',[im_r,im_g,im_b])\n",
    "plt.subplot(2,2,4)\n",
    "plt.imshow(Im)\n",
    "plt.show()"
   ]
  },
  {
   "cell_type": "code",
   "execution_count": null,
   "metadata": {},
   "outputs": [],
   "source": [
    "from PIL import Image\n",
    "import numpy as np \n",
    "import matplotlib.pyplot as plt \n",
    "im = Image.open('h.jpg')\n",
    "a = np.array(im)\n",
    "print('shape:',a.shape)\n",
    "print(a)"
   ]
  },
  {
   "cell_type": "code",
   "execution_count": null,
   "metadata": {},
   "outputs": [],
   "source": [
    "from PIL import Image\n",
    "import numpy as np \n",
    "import matplotlib.pyplot as plt \n",
    "im = Image.open('h.jpg')\n",
    "plt.figure(figsize=(6,4))\n",
    "im_small = im.resize((64,32))\n",
    "# 将缩放的im返回给im_small\n",
    "plt.imshow(im_small)\n",
    "plt.show()"
   ]
  },
  {
   "cell_type": "code",
   "execution_count": null,
   "metadata": {},
   "outputs": [],
   "source": [
    "from PIL import Image\n",
    "import numpy as np \n",
    "import matplotlib.pyplot as plt \n",
    "im = Image.open('h.jpg')\n",
    "plt.figure(figsize=(6,4))\n",
    "im_small = im.resize((64,32))\n",
    "im.thumbnail((64,32))\n",
    "# 对im本身进行缩放\n",
    "plt.imshow(im)\n",
    "plt.show()"
   ]
  },
  {
   "cell_type": "code",
   "execution_count": null,
   "metadata": {},
   "outputs": [],
   "source": [
    "from PIL import Image\n",
    "import numpy as np \n",
    "import matplotlib.pyplot as plt \n",
    "im = Image.open('h.jpg')\n",
    "plt.figure(figsize=(6,4))\n",
    "im_0 = im.transpose(Image.ROTATE_90)\n",
    "# 旋转90°\n",
    "plt.imshow(im_0)\n",
    "plt.show()"
   ]
  },
  {
   "cell_type": "code",
   "execution_count": null,
   "metadata": {},
   "outputs": [],
   "source": [
    "from PIL import Image\n",
    "import numpy as np \n",
    "import matplotlib.pyplot as plt \n",
    "im = Image.open('h.jpg')\n",
    "plt.figure(figsize=(6,4))\n",
    "im_0 = im.crop((100,100,400,400))\n",
    "plt.imshow(im_0)\n",
    "# 裁剪\n",
    "plt.show()"
   ]
  },
  {
   "cell_type": "code",
   "execution_count": null,
   "metadata": {},
   "outputs": [],
   "source": [
    "import tensorflow as tf \n",
    "mnst = tf.keras.datasets.mnist\n",
    "(train_x,train_y),(test_x,test_y)=mnst.load_data()\n",
    "print(len(train_x))\n",
    "print(len(test_x))\n",
    "print('train_x: ',train_x.shape,train_x.dtype)\n",
    "print(train_x[0])"
   ]
  },
  {
   "cell_type": "code",
   "execution_count": null,
   "metadata": {},
   "outputs": [],
   "source": [
    "import tensorflow as tf \n",
    "import matplotlib.pyplot as plt \n",
    "mnst = tf.keras.datasets.mnist\n",
    "(train_x,train_y),(test_x,test_y)=mnst.load_data()\n",
    "\n",
    "plt.axis('off')\n",
    "plt.imshow(train_x[0],cmap='gray')\n",
    "plt.show()\n",
    "print(train_y[0])"
   ]
  },
  {
   "cell_type": "code",
   "execution_count": null,
   "metadata": {},
   "outputs": [],
   "source": [
    "from tensorflow.python.client import device_lib as _device_lib\n",
    "local_device_protos = _device_lib.list_local_devices()"
   ]
  },
  {
   "cell_type": "code",
   "execution_count": null,
   "metadata": {},
   "outputs": [],
   "source": [
    "import tensorflow as tf \n",
    "import matplotlib.pyplot as plt \n",
    "import numpy as np \n",
    "\n",
    "mnst = tf.keras.datasets.mnist\n",
    "(train_x,train_y),(test_x,test_y)=mnst.load_data()\n",
    "\n",
    "for i in range(4):\n",
    "    num = np.random.randint(1,60000)\n",
    "\n",
    "    plt.subplot(1,4,i+1)\n",
    "    plt.axis('off')\n",
    "    plt.imshow(train_x[num],cmap='gray')\n",
    "plt.show()"
   ]
  },
  {
   "cell_type": "code",
   "execution_count": null,
   "metadata": {},
   "outputs": [],
   "source": [
    "import tensorflow as tf \n",
    "print(tf.__version__)\n",
    "print(tf.executing_eagerly())"
   ]
  },
  {
   "cell_type": "code",
   "execution_count": null,
   "metadata": {},
   "outputs": [],
   "source": []
  }
 ],
 "metadata": {
  "language_info": {
   "name": "python",
   "codemirror_mode": {
    "name": "ipython",
    "version": 3
   },
   "version": "3.7.7-final"
  },
  "orig_nbformat": 2,
  "file_extension": ".py",
  "mimetype": "text/x-python",
  "name": "python",
  "npconvert_exporter": "python",
  "pygments_lexer": "ipython3",
  "version": 3,
  "kernelspec": {
   "name": "python3",
   "display_name": "Python 3"
  }
 },
 "nbformat": 4,
 "nbformat_minor": 2
}