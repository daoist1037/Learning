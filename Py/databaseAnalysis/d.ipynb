{
 "cells": [
  {
   "cell_type": "code",
   "execution_count": null,
   "metadata": {},
   "outputs": [],
   "source": [
    "# 复杂子图\n",
    "\n",
    "import numpy as np \n",
    "import matplotlib.pyplot as plt \n",
    "plt.figure(figsize=(3,2),dpi=300)\n",
    "plt.subplot2grid((3,3),(0,0),colspan=3)\n",
    "plt.subplot2grid((3,3),(1,0),colspan=2)\n",
    "plt.subplot2grid((3,3),(1,2),rowspan=2)\n",
    "plt.subplot2grid((3,3),(2,0))\n",
    "plt.subplot2grid((3,3),(2,1))\n",
    "plt.tight_layout()\n",
    "plt.show()"
   ]
  },
  {
   "cell_type": "code",
   "execution_count": null,
   "metadata": {},
   "outputs": [],
   "source": [
    "import numpy as np \n",
    "import matplotlib.pyplot as plt \n",
    "plt.figure(figsize=(12,8))\n",
    "plt.subplot2grid((3,3),(0,0),colspan=3)\n",
    "plt.subplot2grid((3,3),(1,0),colspan=2)\n",
    "plt.subplot2grid((3,3),(1,2),rowspan=2)\n",
    "plt.subplot2grid((3,3),(2,0))\n",
    "plt.subplot2grid((3,3),(2,1))\n",
    "# plt.tight_layout()\n",
    "plt.show()"
   ]
  },
  {
   "cell_type": "code",
   "execution_count": null,
   "metadata": {},
   "outputs": [],
   "source": [
    "import matplotlib.gridspec as gridspec\n",
    "g =gridspec.GridSpec(3,3)\n",
    "\n",
    "import matplotlib.pyplot as plt \n",
    "plt.subplot(g[0,:])\n",
    "plt.subplot(g[1,0:2])\n",
    "plt.subplot(g[1:,2])\n",
    "plt.subplot(g[2,0])\n",
    "plt.subplot(g[2,1])\n",
    "plt.tight_layout()\n",
    "plt.show()"
   ]
  },
  {
   "cell_type": "code",
   "execution_count": null,
   "metadata": {},
   "outputs": [],
   "source": [
    "# 饼图\n",
    "import matplotlib.pyplot as plt \n",
    "label = ('cats','dogs','pigs','zebra')\n",
    "size = [15,30,45,10]\n",
    "explode = [0,0.1,0,0]\n",
    "# shadow 阴影\n",
    "plt.pie(size,explode=explode,labels=label,autopct='%.1f%%',shadow=True,startangle=90)\n",
    "# 加了这句之后，饼图就不再是倾斜的，x/y比例是相等的\n",
    "plt.axis('equal')\n",
    "plt.show()"
   ]
  },
  {
   "cell_type": "code",
   "execution_count": null,
   "metadata": {},
   "outputs": [],
   "source": [
    "# 直方图\n",
    "import numpy as np \n",
    "import matplotlib.pyplot as plt \n",
    "np.random.seed(0)\n",
    "mu,sigma = 100,20\n",
    "a = np.random.normal(mu,sigma,size=100)\n",
    "# 20为bin  代表直方图的个数 这里是20个直立的直方\n",
    "# normed=1代表将直方区间内元素个数归化\n",
    "# normed=0高即为元素个数\n",
    "plt.hist(a,20,normed=1,histtype='stepfilled',facecolor='b',alpha=0.75)\n",
    "plt.title('Histgram')\n",
    "plt.show()"
   ]
  },
  {
   "cell_type": "code",
   "execution_count": null,
   "metadata": {},
   "outputs": [],
   "source": [
    "# 极坐标图\n",
    "# 面向对象绘图\n",
    "import numpy as np \n",
    "import matplotlib.pyplot as plt \n",
    "N = 20\n",
    "theta = np.linspace(0.0,2*np.pi,N,endpoint=False)\n",
    "radii = 10*np.random.rand(N)\n",
    "width = np.pi/4*np.random.rand(N)\n",
    "\n",
    "ax = plt.subplot(111,projection='polar')\n",
    "bars = ax.bar(theta,radii,width=width,bottom=0.0)\n",
    "# zip将radii bars两两组成元组\n",
    "for r, bar in zip(radii,bars):\n",
    "    bar.set_facecolor(plt.cm.viridis(r/10.))\n",
    "    bar.set_alpha(0.5)\n",
    "\n",
    "plt.show()"
   ]
  },
  {
   "cell_type": "code",
   "execution_count": null,
   "metadata": {},
   "outputs": [],
   "source": [
    "import pandas as pd \n",
    "d =pd.Series(range(20))\n",
    "# Series相当于一维数据\n",
    "# DataFrame 相当于二维和多维\n",
    "print(d)\n",
    "# 第一列为索引值 第二列为值\n",
    "d=d.cumsum()\n",
    "print(d)\n",
    "# 前n项和，新对象第i个元素为前i个元素的和"
   ]
  },
  {
   "cell_type": "code",
   "execution_count": null,
   "metadata": {},
   "outputs": [],
   "source": [
    "import pandas as pd \n",
    "import numpy as np\n",
    "a = pd.Series([9,8,7,6])\n",
    "print(a)\n",
    "a = pd.Series([9,8,7,6],index=['a','b','c','d'])\n",
    "# 自定义索引\n",
    "print(a)\n",
    "a = pd.Series(25,index=['a','b','c','d'])\n",
    "print(a)\n",
    "a = pd.Series({'a':9,'b':8,'c':7,'d':6})\n",
    "print(a)\n",
    "a = pd.Series({'a':9,'b':8,'c':7},index=['c','a','b','d'])\n",
    "print(a)\n",
    "a = pd.Series(np.arange(5),index=['c','a','b','d','e'])\n",
    "print('a is',a,sep='\\n')\n",
    "print(a.index)\n",
    "print(a.values)\n",
    "# index\n",
    "print(a['b'])\n",
    "print(a[2])\n",
    "print(a[['a','b','c']])\n",
    "\n",
    "# 迭代  只会判断索引，不会判断值\n",
    "print('b' in a)\n",
    "print(2 in a)\n",
    "# 操作\n",
    "# 取出'f'对应的值，没有的时候返回100\n",
    "print(a.get('f',100))\n",
    "# 对齐操作\n"
   ]
  },
  {
   "cell_type": "code",
   "execution_count": null,
   "metadata": {},
   "outputs": [],
   "source": [
    "import pandas as pd \n",
    "import numpy as np \n",
    "d = pd.DataFrame(np.arange(10).reshape(2,5))\n",
    "print(d)\n",
    "dt = []\n",
    "d = pd.DataFrame(dt, index=['a','b','c'], columns=['two','three'])\n",
    "print(d)\n",
    "dt = {'one':pd.Series([1,2,3],index=['a','b','c']),\n",
    "    'two':pd.Series([9,8,7,6],index=['a','e','c','d'])}\n",
    "print(dt)\n",
    "d = pd.DataFrame(dt)\n",
    "print(d)\n",
    "print(d.values)\n",
    "print(d.index)\n",
    "print(d.columns)\n",
    "print('acquire')\n",
    "# loc根据键值匹配，iloc根据序列匹配\n",
    "# 获取某一列\n",
    "print(d['one'])\n",
    "# 获取某一行\n",
    "print(d.loc['c'])\n",
    "print(d.iloc[2])\n",
    "# 获取某一个\n",
    "print(d['one']['c'])\n",
    "print(d.loc['c','one'])\n",
    "print(d.iloc[2,1])"
   ]
  },
  {
   "cell_type": "code",
   "execution_count": null,
   "metadata": {},
   "outputs": [],
   "source": [
    " # pandas 数据操作\n",
    " # 重排 \n",
    " import pandas as pd \n",
    " import numpy as np\n",
    " dl = {\n",
    "        \"城市\":['北京','上海','广州','深圳','沈阳'],\n",
    "        \"环比\":['101.5','101.2','101.3','102.0','100.1'],\n",
    "        \"同比\":['120.7','127.3','119.4','140.9','101.4'],\n",
    "        \"定基\":['121.4','127.8','120.0','145.5','101.6'],\n",
    "        }\n",
    "d = pd.DataFrame(dl,index=['c1','c2','c3','c4','c5'])\n",
    "print(d)\n",
    "\n",
    "# 重新索引 reindex()\n",
    "d = d.reindex(index=['c5','c2','c3','c4','c1'])\n",
    "d = d.reindex(columns=['城市','同比','环比','定基'])\n",
    "print(d)\n",
    "# 新增\n",
    "newc = d.columns.insert(4,'新增')\n",
    "newd = d.reindex(columns=newc,fill_value=200)\n",
    "print(newd)\n",
    "# 索引类型的常用方法\n",
    "# append diff intersection union delete insert\n",
    "nc = d.columns.delete(2)\n",
    "print(nc)\n",
    "\n",
    "\n",
    "# 删除\n",
    "a = pd.Series([9,8,7,6],index=['a','b','c','d'])\n",
    "b=a.drop(['b','c'])\n",
    "print(b)\n",
    "dd = d.drop('同比',axis=1)\n",
    "print(dd)\n",
    "\n",
    "\n",
    "# 只有索引值相同的才会进行运算，否则为NaN空值；不同维度的元素进行广播运算\n",
    "# 可以进行二元运算符运算 +-*/\n",
    "# 也可以有相应运算函数进行运算"
   ]
  },
  {
   "cell_type": "code",
   "execution_count": null,
   "metadata": {},
   "outputs": [],
   "source": [
    "# 排序\n",
    "# sort_index()指定轴上根据索引进行排序 默认升序\n",
    "# sort_values()指定轴上根据数值进行排序 默认升序\n"
   ]
  },
  {
   "cell_type": "code",
   "execution_count": null,
   "metadata": {},
   "outputs": [],
   "source": [
    "import requests\n",
    "tetx = requests.get('https://www.baidu.com').content.decode()\n",
    "print(tetx)"
   ]
  },
  {
   "cell_type": "code",
   "execution_count": null,
   "metadata": {},
   "outputs": [],
   "source": []
  }
 ],
 "metadata": {
  "language_info": {
   "name": "python",
   "codemirror_mode": {
    "name": "ipython",
    "version": 3
   },
   "version": "3.7.7-final"
  },
  "orig_nbformat": 2,
  "file_extension": ".py",
  "mimetype": "text/x-python",
  "name": "python",
  "npconvert_exporter": "python",
  "pygments_lexer": "ipython3",
  "version": 3,
  "kernelspec": {
   "name": "python3",
   "display_name": "Python 3"
  }
 },
 "nbformat": 4,
 "nbformat_minor": 2
}