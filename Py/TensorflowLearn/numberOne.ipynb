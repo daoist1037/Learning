{
 "cells": [
  {
   "cell_type": "code",
   "execution_count": 15,
   "metadata": {},
   "outputs": [
    {
     "output_type": "stream",
     "name": "stdout",
     "text": "2.1.0\n2.1.0\n[PhysicalDevice(name='/physical_device:GPU:0', device_type='GPU')]\n"
    }
   ],
   "source": [
    "import tensorflow as tf\n",
    "print(tf.version.VERSION)\n",
    "print(tf.__version__)\n",
    "gpus = tf.config.experimental.list_physical_devices(device_type='GPU')\n",
    "print(gpus)"
   ]
  },
  {
   "cell_type": "code",
   "execution_count": 2,
   "metadata": {},
   "outputs": [
    {
     "output_type": "stream",
     "name": "stdout",
     "text": "warmup: 3.5891022000000135 0.006779999999992015\nrun time: 3.3776788000000124 0.005125499999991234\n"
    }
   ],
   "source": [
    "import tensorflow as tf\n",
    "import timeit\n",
    "# with tf.device('/cpu:0'):\n",
    "#     cpu_a = tf.random.normal([1, 10000000])\n",
    "#     cpu_b = tf.random.normal([10000000, 1])\n",
    "#     print(cpu_a.device, cpu_b.device)\n",
    "# with tf.device('/gpu:0'):\n",
    "#     gpu_a = tf.random.normal([1, 10000000])\n",
    "#     gpu_b = tf.random.normal([10000000, 1])\n",
    "#     print(cpu_a.device, cpu_b.device)\n",
    "\n",
    "def cpu_run():\n",
    "    with tf.device('/cpu:0'):\n",
    "        cpu_a = tf.random.normal([10000, 1000])\n",
    "        cpu_b = tf.random.normal([1000, 2000])\n",
    "        c = tf.matmul(cpu_a, cpu_b)\n",
    "    return c\n",
    "\n",
    "\n",
    "def gpu_run():\n",
    "    with tf.device('/gpu:0'):\n",
    "        gpu_a = tf.random.normal([10000, 1000])\n",
    "        gpu_b = tf.random.normal([1000, 2000])\n",
    "        c = tf.matmul(gpu_a, gpu_b)\n",
    "    return c\n",
    "\n",
    "cpu_time = timeit.timeit(cpu_run, number=10)\n",
    "gpu_time = timeit.timeit(gpu_run, number=10)\n",
    "print('warmup:', cpu_time, gpu_time)\n",
    "\n",
    "cpu_time = timeit.timeit(cpu_run, number=10)\n",
    "gpu_time = timeit.timeit(gpu_run, number=10)\n",
    "print('run time:', cpu_time, gpu_time)"
   ]
  },
  {
   "cell_type": "code",
   "execution_count": null,
   "metadata": {},
   "outputs": [],
   "source": [
    "import tensorflow as tf\n",
    "a = tf.constant(1.)\n",
    "b = tf.constant(2.)\n",
    "c = tf.constant(3.)\n",
    "w = tf.constant(4.)\n",
    "\n",
    "with tf.GradientTape() as tape:\n",
    "    tape.watch([w])\n",
    "    y = a * w ** 2 + b * w + c\n",
    "\n",
    "[dy_dw] = tape.gradient(y, [w])\n",
    "print(dy_dw)"
   ]
  },
  {
   "cell_type": "code",
   "execution_count": null,
   "metadata": {},
   "outputs": [],
   "source": [
    "import tensorflow as tf\n",
    "gpus = tf.config.experimental.list_physical_devices('GPU')\n",
    "if gpus:\n",
    "    try:\n",
    "        # 设置GPU为增长式占用\n",
    "        for gpu in gpus:\n",
    "            tf.config.experimental.set_memory_growth(gpu, True)\n",
    "    except RuntimeError as e:\n",
    "        # 打印异常\n",
    "        print(e)"
   ]
  },
  {
   "cell_type": "code",
   "execution_count": null,
   "metadata": {
    "tags": [
     "outputPrepend",
     "outputPrepend"
    ]
   },
   "outputs": [],
   "source": [
    "import numpy as np\n",
    "data = []\n",
    "for x in range(100):\n",
    "    x = np.random.uniform(-10., 10.)\n",
    "    eps = np.random.normal(0., 0.01)\n",
    "    y = 1.477 * x + 0.089 + eps\n",
    "    data.append([x, y])\n",
    "data = np.array(data)\n",
    "print(data)\n",
    "\n",
    "def mse(b, w, points):\n",
    "    totalError = 0\n",
    "    for i in range(0, len(points)):\n",
    "        x = points[i, 0]\n",
    "        y = points[i, 1]\n",
    "        totalError += (y - (w * x + b)) ** 2\n",
    "    return totalError / float(len(points))\n",
    "\n",
    "def step_gradient(b_current, w_current, points, lr):\n",
    "    b_gradient = 0\n",
    "    w_gradient = 0\n",
    "    M = float(len(points))\n",
    "    for i in range(0, len(points)):\n",
    "        x = points[i, 0]\n",
    "        y = points[i, 1]\n",
    "        b_gradient += (2 / M) * ((w_current * x + b_current) - y)\n",
    "        w_gradient += (2 / M) * x * ((w_current * x + b_current) - y)\n",
    "    new_b = b_current - (lr * b_gradient)\n",
    "    new_w = w_current - (lr * w_gradient)\n",
    "    return [new_b, new_w]\n",
    "\n",
    "def gradient_descent(points, starting_b, starting_w, lr, num_iterations):\n",
    "    b = starting_b\n",
    "    w = starting_w\n",
    "    for step in range(num_iterations):\n",
    "        b, w = step_gradient(b, w, np.array(points), lr)\n",
    "        loss = mse(b, w, points)\n",
    "        if step % 50 == 0:\n",
    "            print(f\"iteration:{step}, loss:{loss}, w:{w}, b:{b}\")\n",
    "    return [b, w]\n",
    "\n",
    "def main():\n",
    "    lr = 0.01\n",
    "    initial_b = 0\n",
    "    initial_w = 0\n",
    "    num_iterations = 1000\n",
    "    [b, w] = gradient_descent(data, initial_b, initial_w, lr, num_iterations)\n",
    "    loss = mse(b, w, data)\n",
    "    print(f\"Final loss:{loss}, w:{w}, b:{b}\")\n",
    "main()"
   ]
  },
  {
   "cell_type": "code",
   "execution_count": null,
   "metadata": {},
   "outputs": [],
   "source": [
    "import os\n",
    "import tensorflow as tf\n",
    "from tensorflow import keras\n",
    "from tensorflow.keras import layers, optimizers, datasets\n",
    "(x, y), (x_val, y_val) = datasets.mnist.load_data()\n",
    "x = 2 * tf.convert_to_tensor(x, dtype=tf.float32) / 255. - 1\n",
    "y = tf.convert_to_tensor(y, dtype=tf.int32)\n",
    "y = tf.one_hot(y, depth=10)\n",
    "print(x.shape, y.shape)\n",
    "tran_dataset = tf.data.Dataset.from_tensor_slices((x, y))\n",
    "tran_dataset = tran_dataset.batch(512)"
   ]
  }
 ],
 "metadata": {
  "kernelspec": {
   "display_name": "Python 3",
   "language": "python",
   "name": "python3"
  },
  "language_info": {
   "codemirror_mode": {
    "name": "ipython",
    "version": 3
   },
   "file_extension": ".py",
   "mimetype": "text/x-python",
   "name": "python",
   "nbconvert_exporter": "python",
   "pygments_lexer": "ipython3",
   "version": "3.7.7-final"
  }
 },
 "nbformat": 4,
 "nbformat_minor": 2
}