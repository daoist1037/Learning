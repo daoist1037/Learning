{
 "cells": [
  {
   "cell_type": "markdown",
   "metadata": {},
   "source": [
    "# 一 创建张量"
   ]
  },
  {
   "cell_type": "code",
   "execution_count": 1,
   "metadata": {},
   "outputs": [
    {
     "output_type": "stream",
     "name": "stdout",
     "text": "tf.Tensor(\n[[1 2]\n [3 4]], shape=(2, 2), dtype=int32)\n<class 'tensorflow.python.framework.ops.EagerTensor'>\ntf.Tensor(1.0, shape=(), dtype=float32)\ntf.Tensor(1.0, shape=(), dtype=float64)\n"
    }
   ],
   "source": [
    "# 创建张量\n",
    "import numpy as np\n",
    "import tensorflow as tf\n",
    "x = tf.constant([[1, 2], [3, 4]])\n",
    "print(x)\n",
    "print(type(x))\n",
    "# 下面是0维张量\n",
    "y = tf.constant(1.0)\n",
    "print(y)\n",
    "a = tf.constant(1.0, dtype=tf.float64)\n",
    "print(a)"
   ]
  },
  {
   "cell_type": "code",
   "execution_count": 2,
   "metadata": {},
   "outputs": [
    {
     "output_type": "stream",
     "name": "stdout",
     "text": "tf.Tensor(1.0, shape=(), dtype=float32)\ntf.Tensor(b'hello', shape=(), dtype=string)\n"
    }
   ],
   "source": [
    "b = tf.cast(a, dtype=tf.float32)\n",
    "print(b)\n",
    "# 在进行数据类型转换时，一般是将低精度的数据类型向高精度转换，否则可能发生数据溢出，得到错误的结果。\n",
    "print(tf.constant(\"hello\"))\n",
    "# b：表示这是一个字节串。\n",
    "# 在Python3中，字符串默认是Unicode编码，\n",
    "# 因此要转成字节串，就在原来的字符串前面加上一个b"
   ]
  },
  {
   "cell_type": "code",
   "execution_count": 3,
   "metadata": {},
   "outputs": [
    {
     "output_type": "stream",
     "name": "stdout",
     "text": "tf.Tensor(\n[[ 0  1  2  3]\n [ 4  5  6  7]\n [ 8  9 10 11]], shape=(3, 4), dtype=int32)\nTrue\n"
    }
   ],
   "source": [
    "ta = tf.convert_to_tensor(np.arange(12).reshape(3, 4))\n",
    "print(tf.convert_to_tensor(np.arange(12).reshape(3, 4)))\n",
    "# is_tensor()函数\n",
    "print(tf.is_tensor(ta))"
   ]
  },
  {
   "cell_type": "code",
   "execution_count": 4,
   "metadata": {},
   "outputs": [
    {
     "output_type": "stream",
     "name": "stdout",
     "text": "True\nTrue\n"
    }
   ],
   "source": [
    "# isinstance()函数\n",
    "print(isinstance(ta, tf.Tensor))\n",
    "print(isinstance(np.arange(12).reshape(3, 4), np.ndarray))"
   ]
  },
  {
   "cell_type": "code",
   "execution_count": 5,
   "metadata": {},
   "outputs": [
    {
     "output_type": "stream",
     "name": "stdout",
     "text": "tf.Tensor(\n[[1.]\n [1.]], shape=(2, 1), dtype=float32)\ntf.Tensor([1. 1. 1. 1. 1. 1.], shape=(6,), dtype=float32)\ntf.Tensor(\n[[1 1 1]\n [1 1 1]], shape=(2, 3), dtype=int32)\n"
    }
   ],
   "source": [
    "# 创建全0张量和全1张量\n",
    "print(tf.ones(shape=(2, 1)))\n",
    "print(tf.ones([6]))\n",
    "print(tf.ones([2, 3], dtype=tf.int32))"
   ]
  },
  {
   "cell_type": "code",
   "execution_count": 6,
   "metadata": {},
   "outputs": [
    {
     "output_type": "stream",
     "name": "stdout",
     "text": "tf.Tensor(\n[[9 9 9]\n [9 9 9]], shape=(2, 3), dtype=int32)\ntf.Tensor(\n[[9. 9. 9.]\n [9. 9. 9.]], shape=(2, 3), dtype=float32)\n"
    }
   ],
   "source": [
    "# 创建元素值都相同的张量—— tf.fill()函数\n",
    "print(tf.fill([2, 3], 9))\n",
    "print(tf.fill([2, 3], 9.0))"
   ]
  },
  {
   "cell_type": "code",
   "execution_count": 7,
   "metadata": {},
   "outputs": [
    {
     "output_type": "stream",
     "name": "stdout",
     "text": "tf.Tensor(\n[[9 9 9]\n [9 9 9]], shape=(2, 3), dtype=int32)\ntf.Tensor(\n[[9 9 9]\n [9 9 9]], shape=(2, 3), dtype=int32)\ntf.Tensor(\n[[9 9 9]\n [9 9 9]], shape=(2, 3), dtype=int32)\n"
    }
   ],
   "source": [
    "# 创建元素值都相同的张量—— tf.constant()函数\n",
    "print(tf.constant(9, shape=[2, 3]))\n",
    "print(tf.constant(value=9, shape=[2, 3]))\n",
    "print(tf.fill(dims=[2, 3], value=9))"
   ]
  },
  {
   "cell_type": "code",
   "execution_count": 8,
   "metadata": {},
   "outputs": [
    {
     "output_type": "stream",
     "name": "stdout",
     "text": "tf.Tensor(\n[[ 0.85437065 -0.27268288  0.17207769]\n [ 1.0141515  -0.4506549  -1.4335564 ]], shape=(2, 3), dtype=float32)\ntf.Tensor(\n[[[-1.2674005   0.18170622  0.31749362]\n  [-1.0799264   1.2521479  -1.0759917 ]\n  [-1.2439876  -1.7118998   1.6640587 ]]\n\n [[-3.0914392  -1.2122856  -1.4664005 ]\n  [ 1.3494933   0.61071575  0.5456955 ]\n  [ 3.148196    1.8117074  -1.629724  ]]\n\n [[ 0.80004364  0.55848354 -1.499719  ]\n  [ 1.64091     0.96119237 -3.0683405 ]\n  [-0.64545125 -1.4589103  -0.97982734]]], shape=(3, 3, 3), dtype=float32)\n"
    }
   ],
   "source": [
    "# 创建随机数张量————正太分布\n",
    "# tf.random.normal( shape, mean, stddev, dtype )\n",
    "# 形状 均值 标准差 数据类型\n",
    "print(tf.random.normal([2, 3]))\n",
    "print(tf.random.normal([3, 3, 3], mean=0.0, stddev=2.0))"
   ]
  },
  {
   "cell_type": "code",
   "execution_count": 9,
   "metadata": {},
   "outputs": [
    {
     "output_type": "stream",
     "name": "stdout",
     "text": "tf.Tensor(\n[[[-2.2019253  -3.6187997   0.23775092]\n  [ 2.405262    1.3926837  -0.674369  ]\n  [-2.738942    0.782003   -1.4810795 ]]\n\n [[ 0.423615   -0.27247962 -0.66910815]\n  [ 2.0796607   2.454543    0.75386316]\n  [-1.8743974  -1.1681387  -1.6842493 ]]\n\n [[-2.8563197  -1.7903223   3.6983726 ]\n  [-1.2442654   0.6759736   0.30835837]\n  [ 1.136205    3.2292755  -0.49517477]]], shape=(3, 3, 3), dtype=float32)\n"
    }
   ],
   "source": [
    "# 创建随机数张量——截断正态分布\n",
    "# tf.random.truncated_normal( shape, mean, stddev, dtype )\n",
    "# 返回一个截断的正态分布\n",
    "# 截断的标准是2倍的标准差\n",
    "print(tf.random.truncated_normal([3, 3, 3], mean=0.0, stddev=2.0))"
   ]
  },
  {
   "cell_type": "code",
   "execution_count": 10,
   "metadata": {},
   "outputs": [
    {
     "output_type": "stream",
     "name": "stdout",
     "text": "tf.Tensor(\n[[ 1.2074401  -0.7452463 ]\n [ 0.6908678  -0.76359874]], shape=(2, 2), dtype=float32)\ntf.Tensor(\n[[ 1.2074401  -0.7452463 ]\n [ 0.6908678  -0.76359874]], shape=(2, 2), dtype=float32)\n"
    }
   ],
   "source": [
    "# 设置随机种子——tf.random.set_seed()函数\n",
    "tf.random.set_seed(8)\n",
    "print(tf.random.normal([2, 2]))\n",
    "tf.random.set_seed(8)\n",
    "print(tf.random.normal([2, 2]))"
   ]
  },
  {
   "cell_type": "code",
   "execution_count": 11,
   "metadata": {},
   "outputs": [
    {
     "output_type": "stream",
     "name": "stdout",
     "text": "tf.Tensor(\n[[ 8.71581   8.868814  8.278814]\n [10.282644 10.891918 10.831882]], shape=(2, 3), dtype=float32)\n"
    }
   ],
   "source": [
    "# 创建均匀分布张量——tf.random.uniform()函数\n",
    "print(tf.random.uniform([2, 3], minval=8, maxval=11, dtype=tf.float32))"
   ]
  },
  {
   "cell_type": "code",
   "execution_count": 12,
   "metadata": {},
   "outputs": [
    {
     "output_type": "stream",
     "name": "stdout",
     "text": "tf.Tensor(\n[[1 2]\n [3 4]], shape=(2, 2), dtype=int32)\n"
    }
   ],
   "source": [
    "# 随机打乱——tf.random.shuffle()函数\n",
    "xx = tf.constant([[1, 2], [3, 4], [5, 6]])\n",
    "# 参数为张量 列表 数组，随机打乱第一维\n",
    "yy = tf.random.shuffle(x)\n",
    "print(x)"
   ]
  },
  {
   "cell_type": "code",
   "execution_count": 13,
   "metadata": {},
   "outputs": [
    {
     "output_type": "stream",
     "name": "stdout",
     "text": "tf.Tensor([ 8.  9. 10. 11. 12. 13. 14. 15. 16. 17.], shape=(10,), dtype=float32)\ntf.Tensor([ 8. 10. 12. 14. 16.], shape=(5,), dtype=float32)\n"
    }
   ],
   "source": [
    "# 创建序列——tf.range()函数\n",
    "print(tf.range(start=8, limit=18, delta=1, dtype=tf.float32))\n",
    "print(tf.range(start=8, limit=18, delta=2, dtype=tf.float32))"
   ]
  },
  {
   "cell_type": "code",
   "execution_count": 14,
   "metadata": {},
   "outputs": [
    {
     "output_type": "stream",
     "name": "stdout",
     "text": "ndim: 2\nshape: (2, 3)\ndtype: <dtype: 'float32'>\n"
    }
   ],
   "source": [
    "# Tensor对象的属性——ndim、shape、dtype\n",
    "xxx = tf.random.normal(shape=[2, 3], mean=0.0, stddev=2.0)\n",
    "print(\"ndim:\", xxx.ndim)\n",
    "print(\"shape:\", xxx.shape)\n",
    "print(\"dtype:\", xxx.dtype)"
   ]
  },
  {
   "cell_type": "code",
   "execution_count": 15,
   "metadata": {},
   "outputs": [
    {
     "output_type": "stream",
     "name": "stdout",
     "text": "tf.Tensor([2 3], shape=(2,), dtype=int32)\ntf.Tensor(6, shape=(), dtype=int32)\ntf.Tensor(2, shape=(), dtype=int32)\n"
    }
   ],
   "source": [
    "# 获得Tensor对象的形状、元素总数和维度\n",
    "print(tf.shape(xxx))\n",
    "print(tf.size(xxx))\n",
    "print(tf.rank(xxx))"
   ]
  },
  {
   "cell_type": "markdown",
   "metadata": {},
   "source": [
    "# 二 维度变换\n",
    "## 2.1 张量的存储和视图\n",
    "+ 多维张量在物理上以一维的方式连续存储，通过定义维度和形状，在逻辑上把它理解为多维张量\n",
    "+ 当对多维张量进行维度变换时，只是改变了逻辑上索引的方式，没有改变内存中的存储方式\n",
    "## 改变张量的形状"
   ]
  },
  {
   "cell_type": "code",
   "execution_count": 16,
   "metadata": {},
   "outputs": [
    {
     "output_type": "stream",
     "name": "stdout",
     "text": "tf.Tensor(\n[[-0.30076715]\n [-0.2935319 ]\n [-0.6010592 ]\n [-2.7288115 ]\n [ 2.2710328 ]\n [-1.1560678 ]], shape=(6, 1), dtype=float32)\n[[[ 0  1  2  3]\n  [ 4  5  6  7]\n  [ 8  9 10 11]]\n\n [[12 13 14 15]\n  [16 17 18 19]\n  [20 21 22 23]]]\n"
    }
   ],
   "source": [
    "print(tf.reshape(xxx, [6, 1]))\n",
    "print(np.arange(24).reshape(2, 3, 4))"
   ]
  },
  {
   "cell_type": "markdown",
   "metadata": {},
   "source": [
    "## 2.2 增加和删除维度"
   ]
  },
  {
   "cell_type": "code",
   "execution_count": 24,
   "metadata": {},
   "outputs": [
    {
     "output_type": "stream",
     "name": "stdout",
     "text": "(2,)\n"
    },
    {
     "output_type": "execute_result",
     "data": {
      "text/plain": "<tf.Tensor: shape=(2,), dtype=int32, numpy=array([1, 2])>"
     },
     "metadata": {},
     "execution_count": 24
    }
   ],
   "source": [
    "t = tf.constant([1, 2])\n",
    "print(t.shape)\n",
    "t"
   ]
  },
  {
   "cell_type": "markdown",
   "metadata": {},
   "source": [
    "### 2.2.1 增加维度"
   ]
  },
  {
   "cell_type": "code",
   "execution_count": 21,
   "metadata": {},
   "outputs": [
    {
     "output_type": "stream",
     "name": "stdout",
     "text": "(2, 1)\n"
    },
    {
     "output_type": "execute_result",
     "data": {
      "text/plain": "<tf.Tensor: shape=(2, 1), dtype=int32, numpy=\narray([[1],\n       [2]])>"
     },
     "metadata": {},
     "execution_count": 21
    }
   ],
   "source": [
    "t1 = tf.expand_dims(t, 1)\n",
    "print(t1.shape)\n",
    "t1"
   ]
  },
  {
   "cell_type": "code",
   "execution_count": 34,
   "metadata": {},
   "outputs": [
    {
     "output_type": "stream",
     "name": "stdout",
     "text": "(1, 2)\ntf.Tensor([[1 2]], shape=(1, 2), dtype=int32)\n(1, 1, 2)\ntf.Tensor([[[1 2]]], shape=(1, 1, 2), dtype=int32)\n"
    }
   ],
   "source": [
    "t2 = tf.expand_dims(t, 0)\n",
    "print(t2.shape)\n",
    "print(t2)\n",
    "\n",
    "t3 = tf.expand_dims(t2, 0)\n",
    "print(t3.shape)\n",
    "print(t3)"
   ]
  },
  {
   "cell_type": "code",
   "execution_count": 35,
   "metadata": {},
   "outputs": [
    {
     "output_type": "stream",
     "name": "stdout",
     "text": "(2, 1)\ntf.Tensor(\n[[1]\n [2]], shape=(2, 1), dtype=int32)\n"
    }
   ],
   "source": [
    "t4 = tf.expand_dims(t, -1)\n",
    "print(t4.shape)\n",
    "print(t4)"
   ]
  },
  {
   "cell_type": "markdown",
   "metadata": {},
   "source": [
    "### 2.2.2 删除维度\n",
    "+ 只能删除长度为 1 的维度，省略时删除所有长度为1的维度"
   ]
  },
  {
   "cell_type": "code",
   "execution_count": 47,
   "metadata": {},
   "outputs": [
    {
     "output_type": "stream",
     "name": "stdout",
     "text": "(1, 2, 1, 3, 1)\ntf.Tensor([2 3], shape=(2,), dtype=int32)\n(1, 2, 1, 3, 1)\ntf.Tensor([1 2 3], shape=(3,), dtype=int32)\n"
    }
   ],
   "source": [
    "tt = tf.constant(np.arange(6))\n",
    "tt = tf.reshape(tt, [1, 2, 1, 3, 1])\n",
    "print(tt.shape)\n",
    "print(tf.shape(tf.squeeze(tt)))\n",
    "print(tt.shape)\n",
    "\n",
    "print(tf.shape(tf.squeeze(tt, axis=[2, 4])))"
   ]
  },
  {
   "cell_type": "markdown",
   "metadata": {},
   "source": [
    "+ 增加维度和删除维度，只是改变了张量的视图，不会改变张量的存储"
   ]
  },
  {
   "cell_type": "markdown",
   "metadata": {},
   "source": [
    "## 2.3 交换维度\n",
    "+ 对二维张量交换维度，就是矩阵的转置"
   ]
  },
  {
   "cell_type": "code",
   "execution_count": 48,
   "metadata": {},
   "outputs": [
    {
     "output_type": "stream",
     "name": "stdout",
     "text": "tf.Tensor(\n[[1 4]\n [2 5]\n [3 6]], shape=(3, 2), dtype=int32)\n"
    }
   ],
   "source": [
    "x = tf.constant([[1, 2, 3], [4, 5, 6]])\n",
    "print(tf.transpose(x))"
   ]
  },
  {
   "cell_type": "markdown",
   "metadata": {},
   "source": [
    "+ 调整张量中各个轴的顺序\n",
    "+ 改变轴的顺序，从而改变张量的形状"
   ]
  },
  {
   "cell_type": "code",
   "execution_count": 49,
   "metadata": {},
   "outputs": [
    {
     "output_type": "stream",
     "name": "stdout",
     "text": "tf.Tensor(\n[[1 4]\n [2 5]\n [3 6]], shape=(3, 2), dtype=int32)\n"
    }
   ],
   "source": [
    "print(tf.transpose(x, perm=[1, 0]))"
   ]
  },
  {
   "cell_type": "markdown",
   "metadata": {},
   "source": [
    "+ 交换维度，不仅改变了张量的视图，同时也改变了张量的存储顺序"
   ]
  },
  {
   "cell_type": "markdown",
   "metadata": {},
   "source": [
    "## 2.4 拼接和分割\n",
    "### 2.4.1 拼接张量\n",
    "+ 将多个张量在某个维度上合并\n",
    "+ 拼接并不会产生新的维度"
   ]
  },
  {
   "cell_type": "code",
   "execution_count": 56,
   "metadata": {},
   "outputs": [
    {
     "output_type": "stream",
     "name": "stdout",
     "text": "tf.Tensor(\n[[ 1  2  3]\n [ 4  5  6]\n [ 7  8  9]\n [10 11 12]], shape=(4, 3), dtype=int32)\n"
    }
   ],
   "source": [
    "t1 = tf.reshape(tf.range(1, 7), shape=[2, 3])\n",
    "t2 = tf.reshape(tf.range(7, 13), shape=[2, 3])\n",
    "print(tf.concat([t1, t2], axis=0))"
   ]
  },
  {
   "cell_type": "markdown",
   "metadata": {},
   "source": [
    "### 2.4.2 分割张量：将一个张量拆分成多个张量，分割后维度不变\n",
    "+ tf.split( value, num_or_size_splits, axis=0 )\n",
    "+ value=待分割张量, num_or_size_splits=分割方案, axis=指明分割的轴\n",
    "+ 分割方案：是一个数值时，表示等长分割，数值是切割的份数；是一个列表时，表示不等长切割，列表中是切割后每份的长度"
   ]
  },
  {
   "cell_type": "code",
   "execution_count": 58,
   "metadata": {},
   "outputs": [
    {
     "output_type": "stream",
     "name": "stdout",
     "text": "[<tf.Tensor: shape=(2, 6), dtype=int32, numpy=\narray([[ 0,  1,  2,  3,  4,  5],\n       [ 6,  7,  8,  9, 10, 11]])>, <tf.Tensor: shape=(2, 6), dtype=int32, numpy=\narray([[12, 13, 14, 15, 16, 17],\n       [18, 19, 20, 21, 22, 23]])>]\n"
    }
   ],
   "source": [
    "x = tf.reshape(tf.range(24), shape=[4, 6])\n",
    "print(tf.split(x, num_or_size_splits=2, axis=0))"
   ]
  },
  {
   "cell_type": "markdown",
   "metadata": {},
   "source": [
    "+ 图像的分割与拼接，改变了张量的视图，张量的存储顺序并没有改变。"
   ]
  },
  {
   "cell_type": "markdown",
   "metadata": {},
   "source": [
    "## 2.5 堆叠和分解\n",
    "### 2.5.1 堆叠张量\n",
    "+ 在合并张量时，创建一个新的维度\n",
    "+ 和NumPy中堆叠函数的功能完全一样"
   ]
  },
  {
   "cell_type": "code",
   "execution_count": 60,
   "metadata": {},
   "outputs": [
    {
     "output_type": "stream",
     "name": "stdout",
     "text": "tf.Tensor(\n[[1 2 3]\n [4 5 6]], shape=(2, 3), dtype=int32)\n"
    }
   ],
   "source": [
    "x = tf.constant([1, 2, 3])\n",
    "y = tf.constant([4, 5, 6])\n",
    "print(tf.stack((x, y), axis=0))"
   ]
  },
  {
   "cell_type": "markdown",
   "metadata": {},
   "source": [
    "### 2.5.2 分解张量\n",
    "+ 是张量堆叠的逆运算\n",
    "+ 张量分解为多个张量\n",
    "+ 分解后得到的每个张 量，和原来的张量相比，维数都少了一维"
   ]
  },
  {
   "cell_type": "code",
   "execution_count": 61,
   "metadata": {},
   "outputs": [
    {
     "output_type": "stream",
     "name": "stdout",
     "text": "[<tf.Tensor: shape=(2,), dtype=int32, numpy=array([1, 4])>, <tf.Tensor: shape=(2,), dtype=int32, numpy=array([2, 5])>, <tf.Tensor: shape=(2,), dtype=int32, numpy=array([3, 6])>]\n"
    }
   ],
   "source": [
    "c = tf.stack((x, y), axis=0)\n",
    "print(tf.unstack(c, axis=1))"
   ]
  },
  {
   "cell_type": "markdown",
   "metadata": {},
   "source": [
    "# 三 部分采样"
   ]
  },
  {
   "cell_type": "markdown",
   "metadata": {},
   "source": [
    "## 数据提取 根据索引，抽取出没有规律的、特定的数据\n",
    "+ `gather()`函数：用一个索引列表，将给定张量中对应索引值的元素提取出来"
   ]
  },
  {
   "cell_type": "code",
   "execution_count": 62,
   "metadata": {},
   "outputs": [
    {
     "output_type": "stream",
     "name": "stdout",
     "text": "tf.Tensor([0 2 3], shape=(3,), dtype=int32)\n"
    }
   ],
   "source": [
    "a = tf.range(5)\n",
    "print(tf.gather(a, indices=[0, 2, 3]))"
   ]
  },
  {
   "cell_type": "markdown",
   "metadata": {},
   "source": [
    "+ 对多维张量采样——`gather()、gather_nd()`函数"
   ]
  },
  {
   "cell_type": "code",
   "execution_count": 63,
   "metadata": {},
   "outputs": [
    {
     "output_type": "stream",
     "name": "stdout",
     "text": "tf.Tensor(\n[[ 0  1  2  3  4]\n [10 11 12 13 14]\n [15 16 17 18 19]], shape=(3, 5), dtype=int32)\n"
    }
   ],
   "source": [
    "a = tf.range(20)\n",
    "a = tf.reshape(a, shape=[4, 5])\n",
    "print(tf.gather(a, axis=0, indices=[0, 2, 3]))"
   ]
  },
  {
   "cell_type": "markdown",
   "metadata": {},
   "source": [
    "+ 同时采样多个点——`gather_nd()`函数"
   ]
  },
  {
   "cell_type": "code",
   "execution_count": 64,
   "metadata": {},
   "outputs": [
    {
     "output_type": "stream",
     "name": "stdout",
     "text": "tf.Tensor([ 1  6 13], shape=(3,), dtype=int32)\n"
    }
   ],
   "source": [
    "print(tf.gather_nd(a, [[0, 1], [1, 1], [2, 3]]))"
   ]
  },
  {
   "cell_type": "markdown",
   "metadata": {},
   "source": [
    "# 四 张量运算"
   ]
  },
  {
   "cell_type": "markdown",
   "metadata": {},
   "source": [
    "## 4.1 基本数学运算\n",
    "\n",
    "| 算术操作 | 描述 |\n",
    "|---------| ----- |\n",
    "|tf.add(x, y)|将x和y逐元素相加|\n",
    "|tf.subtract(x, y)|将x和y逐元素相减|\n",
    "|tf.multiply(x, y)|将x和y逐元素相乘|\n",
    "|tf.divide(x, y)|将x和y逐元素相除|\n",
    "|tf.math.mod(x, y)|对x元素取模|"
   ]
  },
  {
   "cell_type": "code",
   "execution_count": null,
   "metadata": {},
   "outputs": [],
   "source": []
  }
 ],
 "metadata": {
  "language_info": {
   "codemirror_mode": {
    "name": "ipython",
    "version": 3
   },
   "file_extension": ".py",
   "mimetype": "text/x-python",
   "name": "python",
   "nbconvert_exporter": "python",
   "pygments_lexer": "ipython3",
   "version": "3.7.7-final"
  },
  "orig_nbformat": 2,
  "kernelspec": {
   "name": "python3",
   "display_name": "Python 3"
  }
 },
 "nbformat": 4,
 "nbformat_minor": 2
}