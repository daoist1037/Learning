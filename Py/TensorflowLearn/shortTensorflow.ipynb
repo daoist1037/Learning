{
 "cells": [
  {
   "cell_type": "markdown",
   "metadata": {},
   "source": [
    "# 一 创建张量"
   ]
  },
  {
   "cell_type": "code",
   "execution_count": 1,
   "metadata": {},
   "outputs": [
    {
     "output_type": "stream",
     "name": "stdout",
     "text": "tf.Tensor(\n[[1 2]\n [3 4]], shape=(2, 2), dtype=int32)\n<class 'tensorflow.python.framework.ops.EagerTensor'>\ntf.Tensor(1.0, shape=(), dtype=float32)\ntf.Tensor(1.0, shape=(), dtype=float64)\n"
    }
   ],
   "source": [
    "# 创建张量\n",
    "import numpy as np\n",
    "import tensorflow as tf\n",
    "x = tf.constant([[1, 2], [3, 4]])\n",
    "print(x)\n",
    "print(type(x))\n",
    "# 下面是0维张量\n",
    "y = tf.constant(1.0)\n",
    "print(y)\n",
    "a = tf.constant(1.0, dtype=tf.float64)\n",
    "print(a)"
   ]
  },
  {
   "cell_type": "code",
   "execution_count": 2,
   "metadata": {},
   "outputs": [
    {
     "output_type": "stream",
     "name": "stdout",
     "text": "tf.Tensor(1.0, shape=(), dtype=float32)\ntf.Tensor(b'hello', shape=(), dtype=string)\n"
    }
   ],
   "source": [
    "b = tf.cast(a, dtype=tf.float32)\n",
    "print(b)\n",
    "# 在进行数据类型转换时，一般是将低精度的数据类型向高精度转换，否则可能发生数据溢出，得到错误的结果。\n",
    "print(tf.constant(\"hello\"))\n",
    "# b：表示这是一个字节串。\n",
    "# 在Python3中，字符串默认是Unicode编码，\n",
    "# 因此要转成字节串，就在原来的字符串前面加上一个b"
   ]
  },
  {
   "cell_type": "code",
   "execution_count": 3,
   "metadata": {},
   "outputs": [
    {
     "output_type": "stream",
     "name": "stdout",
     "text": "tf.Tensor(\n[[ 0  1  2  3]\n [ 4  5  6  7]\n [ 8  9 10 11]], shape=(3, 4), dtype=int32)\nTrue\n"
    }
   ],
   "source": [
    "ta = tf.convert_to_tensor(np.arange(12).reshape(3, 4))\n",
    "print(tf.convert_to_tensor(np.arange(12).reshape(3, 4)))\n",
    "# is_tensor()函数\n",
    "print(tf.is_tensor(ta))"
   ]
  },
  {
   "cell_type": "code",
   "execution_count": 4,
   "metadata": {},
   "outputs": [
    {
     "output_type": "stream",
     "name": "stdout",
     "text": "True\nTrue\n"
    }
   ],
   "source": [
    "# isinstance()函数\n",
    "print(isinstance(ta, tf.Tensor))\n",
    "print(isinstance(np.arange(12).reshape(3, 4), np.ndarray))"
   ]
  },
  {
   "cell_type": "code",
   "execution_count": 5,
   "metadata": {},
   "outputs": [
    {
     "output_type": "stream",
     "name": "stdout",
     "text": "tf.Tensor(\n[[1.]\n [1.]], shape=(2, 1), dtype=float32)\ntf.Tensor([1. 1. 1. 1. 1. 1.], shape=(6,), dtype=float32)\ntf.Tensor(\n[[1 1 1]\n [1 1 1]], shape=(2, 3), dtype=int32)\n"
    }
   ],
   "source": [
    "# 创建全0张量和全1张量\n",
    "print(tf.ones(shape=(2, 1)))\n",
    "print(tf.ones([6]))\n",
    "print(tf.ones([2, 3], dtype=tf.int32))"
   ]
  },
  {
   "cell_type": "code",
   "execution_count": 6,
   "metadata": {},
   "outputs": [
    {
     "output_type": "stream",
     "name": "stdout",
     "text": "tf.Tensor(\n[[9 9 9]\n [9 9 9]], shape=(2, 3), dtype=int32)\ntf.Tensor(\n[[9. 9. 9.]\n [9. 9. 9.]], shape=(2, 3), dtype=float32)\n"
    }
   ],
   "source": [
    "# 创建元素值都相同的张量—— tf.fill()函数\n",
    "print(tf.fill([2, 3], 9))\n",
    "print(tf.fill([2, 3], 9.0))"
   ]
  },
  {
   "cell_type": "code",
   "execution_count": 7,
   "metadata": {},
   "outputs": [
    {
     "output_type": "stream",
     "name": "stdout",
     "text": "tf.Tensor(\n[[9 9 9]\n [9 9 9]], shape=(2, 3), dtype=int32)\ntf.Tensor(\n[[9 9 9]\n [9 9 9]], shape=(2, 3), dtype=int32)\ntf.Tensor(\n[[9 9 9]\n [9 9 9]], shape=(2, 3), dtype=int32)\n"
    }
   ],
   "source": [
    "# 创建元素值都相同的张量—— tf.constant()函数\n",
    "print(tf.constant(9, shape=[2, 3]))\n",
    "print(tf.constant(value=9, shape=[2, 3]))\n",
    "print(tf.fill(dims=[2, 3], value=9))"
   ]
  },
  {
   "cell_type": "code",
   "execution_count": 8,
   "metadata": {},
   "outputs": [
    {
     "output_type": "stream",
     "name": "stdout",
     "text": "tf.Tensor(\n[[ 0.9596238  -0.03593456 -1.9766246 ]\n [ 0.13005061  0.3867902  -0.12128991]], shape=(2, 3), dtype=float32)\ntf.Tensor(\n[[[-0.5602951  -1.3490609   0.52986753]\n  [ 1.4403945  -2.3509722   1.1914164 ]\n  [-3.3274467   0.45244473  0.38573852]]\n\n [[-0.30268425  3.582975    3.097517  ]\n  [-5.3696957  -0.80016947  4.745379  ]\n  [-0.21697749 -0.82217544 -0.15492064]]\n\n [[-3.5303311   0.43018043  0.7034022 ]\n  [-0.01055428 -1.2642161  -1.1102638 ]\n  [ 0.33478555 -0.8768965   0.6771713 ]]], shape=(3, 3, 3), dtype=float32)\n"
    }
   ],
   "source": [
    "# 创建随机数张量————正太分布\n",
    "# tf.random.normal( shape, mean, stddev, dtype )\n",
    "# 形状 均值 标准差 数据类型\n",
    "print(tf.random.normal([2, 3]))\n",
    "print(tf.random.normal([3, 3, 3], mean=0.0, stddev=2.0))"
   ]
  },
  {
   "cell_type": "code",
   "execution_count": 9,
   "metadata": {},
   "outputs": [
    {
     "output_type": "stream",
     "name": "stdout",
     "text": "tf.Tensor(\n[[[ 1.9960188   0.37123516 -2.6792922 ]\n  [ 3.8898513  -0.8761046   0.6670114 ]\n  [-0.94311374  0.67771244  0.78765136]]\n\n [[ 0.27462304 -3.4564655  -1.2853898 ]\n  [ 0.8206365   2.331649   -0.6711926 ]\n  [-0.03879278  0.76185507  1.005911  ]]\n\n [[ 0.38082594  1.1238669  -2.3765314 ]\n  [-0.23173687 -0.5107331   0.16522792]\n  [ 0.49218237 -2.7926228  -1.080127  ]]], shape=(3, 3, 3), dtype=float32)\n"
    }
   ],
   "source": [
    "# 创建随机数张量——截断正态分布\n",
    "# tf.random.truncated_normal( shape, mean, stddev, dtype )\n",
    "# 返回一个截断的正态分布\n",
    "# 截断的标准是2倍的标准差\n",
    "print(tf.random.truncated_normal([3, 3, 3], mean=0.0, stddev=2.0))"
   ]
  },
  {
   "cell_type": "code",
   "execution_count": 10,
   "metadata": {},
   "outputs": [
    {
     "output_type": "stream",
     "name": "stdout",
     "text": "tf.Tensor(\n[[ 1.2074401  -0.7452463 ]\n [ 0.6908678  -0.76359874]], shape=(2, 2), dtype=float32)\ntf.Tensor(\n[[ 1.2074401  -0.7452463 ]\n [ 0.6908678  -0.76359874]], shape=(2, 2), dtype=float32)\n"
    }
   ],
   "source": [
    "# 设置随机种子——tf.random.set_seed()函数\n",
    "tf.random.set_seed(8)\n",
    "print(tf.random.normal([2, 2]))\n",
    "tf.random.set_seed(8)\n",
    "print(tf.random.normal([2, 2]))"
   ]
  },
  {
   "cell_type": "code",
   "execution_count": 11,
   "metadata": {},
   "outputs": [
    {
     "output_type": "stream",
     "name": "stdout",
     "text": "tf.Tensor(\n[[ 8.71581   8.868814  8.278814]\n [10.282644 10.891918 10.831882]], shape=(2, 3), dtype=float32)\n"
    }
   ],
   "source": [
    "# 创建均匀分布张量——tf.random.uniform()函数\n",
    "print(tf.random.uniform([2, 3], minval=8, maxval=11, dtype=tf.float32))"
   ]
  },
  {
   "cell_type": "code",
   "execution_count": 12,
   "metadata": {},
   "outputs": [
    {
     "output_type": "stream",
     "name": "stdout",
     "text": "tf.Tensor(\n[[1 2]\n [3 4]], shape=(2, 2), dtype=int32)\n"
    }
   ],
   "source": [
    "# 随机打乱——tf.random.shuffle()函数\n",
    "xx = tf.constant([[1, 2], [3, 4], [5, 6]])\n",
    "# 参数为张量 列表 数组，随机打乱第一维\n",
    "yy = tf.random.shuffle(x)\n",
    "print(x)"
   ]
  },
  {
   "cell_type": "code",
   "execution_count": 13,
   "metadata": {},
   "outputs": [
    {
     "output_type": "stream",
     "name": "stdout",
     "text": "tf.Tensor([ 8.  9. 10. 11. 12. 13. 14. 15. 16. 17.], shape=(10,), dtype=float32)\ntf.Tensor([ 8. 10. 12. 14. 16.], shape=(5,), dtype=float32)\n"
    }
   ],
   "source": [
    "# 创建序列——tf.range()函数\n",
    "print(tf.range(start=8, limit=18, delta=1, dtype=tf.float32))\n",
    "print(tf.range(start=8, limit=18, delta=2, dtype=tf.float32))"
   ]
  },
  {
   "cell_type": "code",
   "execution_count": 14,
   "metadata": {},
   "outputs": [
    {
     "output_type": "stream",
     "name": "stdout",
     "text": "ndim: 2\nshape: (2, 3)\ndtype: <dtype: 'float32'>\n"
    }
   ],
   "source": [
    "# Tensor对象的属性——ndim、shape、dtype\n",
    "xxx = tf.random.normal(shape=[2, 3], mean=0.0, stddev=2.0)\n",
    "print(\"ndim:\", xxx.ndim)\n",
    "print(\"shape:\", xxx.shape)\n",
    "print(\"dtype:\", xxx.dtype)"
   ]
  },
  {
   "cell_type": "code",
   "execution_count": 15,
   "metadata": {},
   "outputs": [
    {
     "output_type": "stream",
     "name": "stdout",
     "text": "tf.Tensor([2 3], shape=(2,), dtype=int32)\ntf.Tensor(6, shape=(), dtype=int32)\ntf.Tensor(2, shape=(), dtype=int32)\n"
    }
   ],
   "source": [
    "# 获得Tensor对象的形状、元素总数和维度\n",
    "print(tf.shape(xxx))\n",
    "print(tf.size(xxx))\n",
    "print(tf.rank(xxx))"
   ]
  },
  {
   "cell_type": "markdown",
   "metadata": {},
   "source": [
    "# 二 维度变换\n",
    "## 2.1 张量的存储和视图\n",
    "+ 多维张量在物理上以一维的方式连续存储，通过定义维度和形状，在逻辑上把它理解为多维张量\n",
    "+ 当对多维张量进行维度变换时，只是改变了逻辑上索引的方式，没有改变内存中的存储方式\n",
    "## 改变张量的形状"
   ]
  },
  {
   "cell_type": "code",
   "execution_count": 16,
   "metadata": {},
   "outputs": [
    {
     "output_type": "stream",
     "name": "stdout",
     "text": "tf.Tensor(\n[[-0.30076715]\n [-0.2935319 ]\n [-0.6010592 ]\n [-2.7288115 ]\n [ 2.2710328 ]\n [-1.1560678 ]], shape=(6, 1), dtype=float32)\n[[[ 0  1  2  3]\n  [ 4  5  6  7]\n  [ 8  9 10 11]]\n\n [[12 13 14 15]\n  [16 17 18 19]\n  [20 21 22 23]]]\n"
    }
   ],
   "source": [
    "print(tf.reshape(xxx, [6, 1]))\n",
    "print(np.arange(24).reshape(2, 3, 4))"
   ]
  },
  {
   "cell_type": "markdown",
   "metadata": {},
   "source": [
    "## 2.2 增加和删除维度"
   ]
  },
  {
   "cell_type": "code",
   "execution_count": 17,
   "metadata": {},
   "outputs": [
    {
     "output_type": "stream",
     "name": "stdout",
     "text": "(2,)\n"
    },
    {
     "output_type": "execute_result",
     "data": {
      "text/plain": "<tf.Tensor: shape=(2,), dtype=int32, numpy=array([1, 2])>"
     },
     "metadata": {},
     "execution_count": 17
    }
   ],
   "source": [
    "t = tf.constant([1, 2])\n",
    "print(t.shape)\n",
    "t"
   ]
  },
  {
   "cell_type": "markdown",
   "metadata": {},
   "source": [
    "### 2.2.1 增加维度"
   ]
  },
  {
   "cell_type": "code",
   "execution_count": 18,
   "metadata": {},
   "outputs": [
    {
     "output_type": "stream",
     "name": "stdout",
     "text": "(2, 1)\n"
    },
    {
     "output_type": "execute_result",
     "data": {
      "text/plain": "<tf.Tensor: shape=(2, 1), dtype=int32, numpy=\narray([[1],\n       [2]])>"
     },
     "metadata": {},
     "execution_count": 18
    }
   ],
   "source": [
    "t1 = tf.expand_dims(t, 1)\n",
    "print(t1.shape)\n",
    "t1"
   ]
  },
  {
   "cell_type": "code",
   "execution_count": 19,
   "metadata": {},
   "outputs": [
    {
     "output_type": "stream",
     "name": "stdout",
     "text": "(1, 2)\ntf.Tensor([[1 2]], shape=(1, 2), dtype=int32)\n(1, 1, 2)\ntf.Tensor([[[1 2]]], shape=(1, 1, 2), dtype=int32)\n"
    }
   ],
   "source": [
    "t2 = tf.expand_dims(t, 0)\n",
    "print(t2.shape)\n",
    "print(t2)\n",
    "\n",
    "t3 = tf.expand_dims(t2, 0)\n",
    "print(t3.shape)\n",
    "print(t3)"
   ]
  },
  {
   "cell_type": "code",
   "execution_count": 20,
   "metadata": {},
   "outputs": [
    {
     "output_type": "stream",
     "name": "stdout",
     "text": "(2, 1)\ntf.Tensor(\n[[1]\n [2]], shape=(2, 1), dtype=int32)\n"
    }
   ],
   "source": [
    "t4 = tf.expand_dims(t, -1)\n",
    "print(t4.shape)\n",
    "print(t4)"
   ]
  },
  {
   "cell_type": "markdown",
   "metadata": {},
   "source": [
    "### 2.2.2 删除维度\n",
    "+ 只能删除长度为 1 的维度，省略时删除所有长度为1的维度"
   ]
  },
  {
   "cell_type": "code",
   "execution_count": 21,
   "metadata": {},
   "outputs": [
    {
     "output_type": "stream",
     "name": "stdout",
     "text": "(1, 2, 1, 3, 1)\ntf.Tensor([2 3], shape=(2,), dtype=int32)\n(1, 2, 1, 3, 1)\ntf.Tensor([1 2 3], shape=(3,), dtype=int32)\n"
    }
   ],
   "source": [
    "tt = tf.constant(np.arange(6))\n",
    "tt = tf.reshape(tt, [1, 2, 1, 3, 1])\n",
    "print(tt.shape)\n",
    "print(tf.shape(tf.squeeze(tt)))\n",
    "print(tt.shape)\n",
    "\n",
    "print(tf.shape(tf.squeeze(tt, axis=[2, 4])))"
   ]
  },
  {
   "cell_type": "markdown",
   "metadata": {},
   "source": [
    "+ 增加维度和删除维度，只是改变了张量的视图，不会改变张量的存储"
   ]
  },
  {
   "cell_type": "markdown",
   "metadata": {},
   "source": [
    "## 2.3 交换维度\n",
    "+ 对二维张量交换维度，就是矩阵的转置"
   ]
  },
  {
   "cell_type": "code",
   "execution_count": 22,
   "metadata": {},
   "outputs": [
    {
     "output_type": "stream",
     "name": "stdout",
     "text": "tf.Tensor(\n[[1 4]\n [2 5]\n [3 6]], shape=(3, 2), dtype=int32)\n"
    }
   ],
   "source": [
    "x = tf.constant([[1, 2, 3], [4, 5, 6]])\n",
    "print(tf.transpose(x))"
   ]
  },
  {
   "cell_type": "markdown",
   "metadata": {},
   "source": [
    "+ 调整张量中各个轴的顺序\n",
    "+ 改变轴的顺序，从而改变张量的形状"
   ]
  },
  {
   "cell_type": "code",
   "execution_count": 23,
   "metadata": {},
   "outputs": [
    {
     "output_type": "stream",
     "name": "stdout",
     "text": "tf.Tensor(\n[[1 4]\n [2 5]\n [3 6]], shape=(3, 2), dtype=int32)\n"
    }
   ],
   "source": [
    "print(tf.transpose(x, perm=[1, 0]))"
   ]
  },
  {
   "cell_type": "markdown",
   "metadata": {},
   "source": [
    "+ 交换维度，不仅改变了张量的视图，同时也改变了张量的存储顺序"
   ]
  },
  {
   "cell_type": "markdown",
   "metadata": {},
   "source": [
    "## 2.4 拼接和分割\n",
    "### 2.4.1 拼接张量\n",
    "+ 将多个张量在某个维度上合并\n",
    "+ 拼接并不会产生新的维度"
   ]
  },
  {
   "cell_type": "code",
   "execution_count": 24,
   "metadata": {},
   "outputs": [
    {
     "output_type": "stream",
     "name": "stdout",
     "text": "tf.Tensor(\n[[ 1  2  3]\n [ 4  5  6]\n [ 7  8  9]\n [10 11 12]], shape=(4, 3), dtype=int32)\n"
    }
   ],
   "source": [
    "t1 = tf.reshape(tf.range(1, 7), shape=[2, 3])\n",
    "t2 = tf.reshape(tf.range(7, 13), shape=[2, 3])\n",
    "print(tf.concat([t1, t2], axis=0))"
   ]
  },
  {
   "cell_type": "markdown",
   "metadata": {},
   "source": [
    "### 2.4.2 分割张量：将一个张量拆分成多个张量，分割后维度不变\n",
    "+ tf.split( value, num_or_size_splits, axis=0 )\n",
    "+ value=待分割张量, num_or_size_splits=分割方案, axis=指明分割的轴\n",
    "+ 分割方案：是一个数值时，表示等长分割，数值是切割的份数；是一个列表时，表示不等长切割，列表中是切割后每份的长度"
   ]
  },
  {
   "cell_type": "code",
   "execution_count": 25,
   "metadata": {},
   "outputs": [
    {
     "output_type": "stream",
     "name": "stdout",
     "text": "[<tf.Tensor: shape=(2, 6), dtype=int32, numpy=\narray([[ 0,  1,  2,  3,  4,  5],\n       [ 6,  7,  8,  9, 10, 11]])>, <tf.Tensor: shape=(2, 6), dtype=int32, numpy=\narray([[12, 13, 14, 15, 16, 17],\n       [18, 19, 20, 21, 22, 23]])>]\n"
    }
   ],
   "source": [
    "x = tf.reshape(tf.range(24), shape=[4, 6])\n",
    "print(tf.split(x, num_or_size_splits=2, axis=0))"
   ]
  },
  {
   "cell_type": "markdown",
   "metadata": {},
   "source": [
    "+ 图像的分割与拼接，改变了张量的视图，张量的存储顺序并没有改变。"
   ]
  },
  {
   "cell_type": "markdown",
   "metadata": {},
   "source": [
    "## 2.5 堆叠和分解\n",
    "### 2.5.1 堆叠张量\n",
    "+ 在合并张量时，创建一个新的维度\n",
    "+ 和NumPy中堆叠函数的功能完全一样"
   ]
  },
  {
   "cell_type": "code",
   "execution_count": 26,
   "metadata": {},
   "outputs": [
    {
     "output_type": "stream",
     "name": "stdout",
     "text": "tf.Tensor(\n[[1 2 3]\n [4 5 6]], shape=(2, 3), dtype=int32)\n"
    }
   ],
   "source": [
    "x = tf.constant([1, 2, 3])\n",
    "y = tf.constant([4, 5, 6])\n",
    "print(tf.stack((x, y), axis=0))"
   ]
  },
  {
   "cell_type": "markdown",
   "metadata": {},
   "source": [
    "### 2.5.2 分解张量\n",
    "+ 是张量堆叠的逆运算\n",
    "+ 张量分解为多个张量\n",
    "+ 分解后得到的每个张 量，和原来的张量相比，维数都少了一维"
   ]
  },
  {
   "cell_type": "code",
   "execution_count": 27,
   "metadata": {},
   "outputs": [
    {
     "output_type": "stream",
     "name": "stdout",
     "text": "[<tf.Tensor: shape=(2,), dtype=int32, numpy=array([1, 4])>, <tf.Tensor: shape=(2,), dtype=int32, numpy=array([2, 5])>, <tf.Tensor: shape=(2,), dtype=int32, numpy=array([3, 6])>]\n"
    }
   ],
   "source": [
    "c = tf.stack((x, y), axis=0)\n",
    "print(tf.unstack(c, axis=1))"
   ]
  },
  {
   "cell_type": "markdown",
   "metadata": {},
   "source": [
    "# 三 部分采样"
   ]
  },
  {
   "cell_type": "markdown",
   "metadata": {},
   "source": [
    "## 数据提取 根据索引，抽取出没有规律的、特定的数据\n",
    "+ `gather()`函数：用一个索引列表，将给定张量中对应索引值的元素提取出来"
   ]
  },
  {
   "cell_type": "code",
   "execution_count": 28,
   "metadata": {},
   "outputs": [
    {
     "output_type": "stream",
     "name": "stdout",
     "text": "tf.Tensor([0 2 3], shape=(3,), dtype=int32)\n"
    }
   ],
   "source": [
    "a = tf.range(5)\n",
    "print(tf.gather(a, indices=[0, 2, 3]))"
   ]
  },
  {
   "cell_type": "markdown",
   "metadata": {},
   "source": [
    "+ 对多维张量采样——`gather()、gather_nd()`函数"
   ]
  },
  {
   "cell_type": "code",
   "execution_count": 29,
   "metadata": {},
   "outputs": [
    {
     "output_type": "stream",
     "name": "stdout",
     "text": "tf.Tensor(\n[[ 0  1  2  3  4]\n [10 11 12 13 14]\n [15 16 17 18 19]], shape=(3, 5), dtype=int32)\n"
    }
   ],
   "source": [
    "a = tf.range(20)\n",
    "a = tf.reshape(a, shape=[4, 5])\n",
    "print(tf.gather(a, axis=0, indices=[0, 2, 3]))"
   ]
  },
  {
   "cell_type": "markdown",
   "metadata": {},
   "source": [
    "+ 同时采样多个点——`gather_nd()`函数"
   ]
  },
  {
   "cell_type": "code",
   "execution_count": 30,
   "metadata": {},
   "outputs": [
    {
     "output_type": "stream",
     "name": "stdout",
     "text": "tf.Tensor([ 1  6 13], shape=(3,), dtype=int32)\n"
    }
   ],
   "source": [
    "print(tf.gather_nd(a, [[0, 1], [1, 1], [2, 3]]))"
   ]
  },
  {
   "cell_type": "markdown",
   "metadata": {},
   "source": [
    "# 四 张量运算"
   ]
  },
  {
   "cell_type": "markdown",
   "metadata": {},
   "source": [
    "## 4.1 基本数学运算\n",
    "\n",
    "| 算术操作 | 描述 |\n",
    "|---------| ----- |\n",
    "|tf.add(x, y)|将x和y逐元素相加|\n",
    "|tf.subtract(x, y)|将x和y逐元素相减|\n",
    "|tf.multiply(x, y)|将x和y逐元素相乘|\n",
    "|tf.divide(x, y)|将x和y逐元素相除|\n",
    "|tf.math.mod(x, y)|对x元素取模|\n",
    "|tf.pow(x,y)|对x求y的幂次方|\n",
    "|tf.square(x)|对x逐元素求计算平方|\n",
    "|tf.sqrt(x)|对x逐元素开平方根|\n",
    "|tf.exp(x)|计算e的x次方|\n",
    "|tf.math.log(x)|计算自然数，底数为e|\n",
    "+ TensorFlow中只有以e为底的自然对数，没有提供以其他数值为底的对数运算函数"
   ]
  },
  {
   "cell_type": "code",
   "execution_count": 31,
   "metadata": {},
   "outputs": [
    {
     "output_type": "stream",
     "name": "stdout",
     "text": "tf.Tensor([4 4 9 9], shape=(4,), dtype=int32)\ntf.Tensor([1.4142135 1.4142135 1.7320508 1.7320508], shape=(4,), dtype=float32)\n"
    }
   ],
   "source": [
    "a = tf.constant([2, 2, 3, 3])\n",
    "# 幂为小于1 的数，张量的元素要为浮点数\n",
    "print(tf.pow(a, 2))\n",
    "a = tf.constant([2., 2., 3., 3.])\n",
    "print(tf.pow(a, 0.5))"
   ]
  },
  {
   "cell_type": "markdown",
   "metadata": {},
   "source": [
    "|函数|描述|\n",
    "|--|--|\n",
    "|tf.sign(x)|返回x的符号|\n",
    "|tf.abs(x)|对x逐元素求绝对值|\n",
    "|tf.negative(x)|对x逐元素求相反数，y=-x|\n",
    "|tf.reciprocal(x)|取x的倒数|\n",
    "|tf.logical_not(x)|对x逐元素求的逻辑非|\n",
    "|tf.ceil(x)|向上取整|\n",
    "|tf.floor(x)|向下取整|\n",
    "|tf.rint(x)|取最近的整数|\n",
    "|tf.round(x)|对x逐元素求舍入最接近的整数|\n",
    "|tf.maximum(x,y)|返回两tensosr中的最大值|\n",
    "|tf.minimum(x,y)|返回两tensor中的最小值|\n",
    "|tf.cos(x）||\n",
    "|tf.sin(x)||\n",
    "|tf.tan(x)||\n",
    "|tf.acos(x)||\n",
    "|tf.asin(x)||\n",
    "|tf.atan(x)||\n",
    "\n",
    "\n",
    "+ tf.logical_and()\n",
    "+ tf.logical_or()\n",
    "+ tf.logical_xor()\n",
    "+ tf.logical_not()\n",
    "+ tf.less()\n",
    "+ tf.less_equal()\n",
    "+ tf.greater()\n",
    "+ tf.greater_equal()"
   ]
  },
  {
   "cell_type": "markdown",
   "metadata": {},
   "source": [
    "## 4.2 广播机制\n",
    "### 4.2.1 一维张量 + 二维张量"
   ]
  },
  {
   "cell_type": "code",
   "execution_count": 32,
   "metadata": {},
   "outputs": [
    {
     "output_type": "stream",
     "name": "stdout",
     "text": "tf.Tensor(\n[[ 2  4  6]\n [ 5  7  9]\n [ 8 10 12]\n [11 13 15]], shape=(4, 3), dtype=int32)\n"
    }
   ],
   "source": [
    "a = tf.constant([1, 2, 3])\n",
    "b = tf.constant(tf.reshape(tf.range(1, 13), shape=[4, 3]))\n",
    "print(a + b)\n",
    "# 两个张量最后一个维度的长度必须相等"
   ]
  },
  {
   "cell_type": "markdown",
   "metadata": {},
   "source": [
    "### 4.2.2 张量和NumPy数组之间的相互转换\n",
    "+ NumPy数组转化为张量：tf.constant()； tf.convert_to_tensor\n",
    "+ 张量转换为NumPy数组：Tensor.numpy()\n",
    "## 4.3 张量运算\n",
    "### 4.3.1 张量乘法\n",
    "+ 元素乘法：tf.multiply(), *运算符\n",
    "+ 向量乘法  tf.matmul()，@运算符"
   ]
  },
  {
   "cell_type": "code",
   "execution_count": 33,
   "metadata": {},
   "outputs": [
    {
     "output_type": "stream",
     "name": "stdout",
     "text": "tf.Tensor(\n[[[-5.6914926  -0.83074844 -1.0261788  -3.572829  ]\n  [ 4.1801624   0.02238131  3.0324569   4.879959  ]\n  [ 3.340268    2.067441    2.3691566  -0.68011636]]\n\n [[-5.6328897  -1.6181984  -0.7261298  -1.0867693 ]\n  [ 3.510016   -0.3669593   0.45535886  3.0891953 ]\n  [ 0.79265326 -1.0611658  -0.932046    4.1411967 ]]], shape=(2, 3, 4), dtype=float32)\n"
    }
   ],
   "source": [
    "a = tf.random.normal([2, 3, 5])\n",
    "b = tf.random.normal([5, 4])\n",
    "print(tf.matmul(a, b))"
   ]
  },
  {
   "cell_type": "markdown",
   "metadata": {},
   "source": [
    "### 4.3.2 数据统计\n",
    "+ 求张量在某个维度上、或者全局的统计值\n",
    "\n",
    "|函数|描述|\n",
    "| -- | -- |\n",
    "|tf.reduce_sum(**)|求和|\n",
    "|tf.reduce_mean(**)|求平均值|\n",
    "|tf.reduce_max(**)|求最大值|\n",
    "|tf.reduce_min(**)|求最小值|\n",
    "|tf.argmax(**)  tf.argmin(**)|求最值的索引|"
   ]
  },
  {
   "cell_type": "markdown",
   "metadata": {},
   "source": [
    "# 五 使用GPU"
   ]
  },
  {
   "cell_type": "code",
   "execution_count": 34,
   "metadata": {},
   "outputs": [
    {
     "output_type": "stream",
     "name": "stdout",
     "text": "2.1.0\n[PhysicalDevice(name='/physical_device:GPU:0', device_type='GPU')]\n[PhysicalDevice(name='/physical_device:CPU:0', device_type='CPU')]\nWARNING:tensorflow:From <ipython-input-34-f6f927aecb8f>:8: is_gpu_available (from tensorflow.python.framework.test_util) is deprecated and will be removed in a future version.\nInstructions for updating:\nUse `tf.config.list_physical_devices('GPU')` instead.\nTrue\n[PhysicalDevice(name='/physical_device:GPU:0', device_type='GPU')]\n"
    }
   ],
   "source": [
    "print(tf.__version__)\n",
    "\n",
    "gpus = tf.config.experimental.list_physical_devices(device_type='GPU')\n",
    "cpus = tf.config.experimental.list_physical_devices(device_type='CPU')\n",
    "print(gpus)\n",
    "print(cpus)\n",
    "\n",
    "print(tf.test.is_gpu_available())\n",
    "print(tf.config.list_physical_devices('GPU'))"
   ]
  },
  {
   "cell_type": "markdown",
   "metadata": {},
   "source": [
    "# 六 三维数据可视化"
   ]
  },
  {
   "cell_type": "code",
   "execution_count": 35,
   "metadata": {},
   "outputs": [
    {
     "output_type": "display_data",
     "data": {
      "text/plain": "<Figure size 432x288 with 1 Axes>",
      "image/svg+xml": "<?xml version=\"1.0\" encoding=\"utf-8\" standalone=\"no\"?>\r\n<!DOCTYPE svg PUBLIC \"-//W3C//DTD SVG 1.1//EN\"\r\n  \"http://www.w3.org/Graphics/SVG/1.1/DTD/svg11.dtd\">\r\n<!-- Created with matplotlib (https://matplotlib.org/) -->\r\n<svg height=\"302.4pt\" version=\"1.1\" viewBox=\"0 0 446.4 302.4\" width=\"446.4pt\" xmlns=\"http://www.w3.org/2000/svg\" xmlns:xlink=\"http://www.w3.org/1999/xlink\">\r\n <defs>\r\n  <style type=\"text/css\">\r\n*{stroke-linecap:butt;stroke-linejoin:round;}\r\n  </style>\r\n </defs>\r\n <g id=\"figure_1\">\r\n  <g id=\"patch_1\">\r\n   <path d=\"M 0 302.4 \r\nL 446.4 302.4 \r\nL 446.4 0 \r\nL 0 0 \r\nz\r\n\" style=\"fill:none;\"/>\r\n  </g>\r\n  <g id=\"patch_2\">\r\n   <path d=\"M 7.2 295.2 \r\nL 439.2 295.2 \r\nL 439.2 7.2 \r\nL 7.2 7.2 \r\nz\r\n\" style=\"fill:#ffffff;\"/>\r\n  </g>\r\n  <g id=\"pane3d_1\">\r\n   <g id=\"patch_3\">\r\n    <path d=\"M 64.468276 231.56215 \r\nL 188.108936 160.951075 \r\nL 186.05045 26.024902 \r\nL 55.516013 89.4675 \r\n\" style=\"fill:#f2f2f2;opacity:0.5;stroke:#f2f2f2;stroke-linejoin:miter;\"/>\r\n   </g>\r\n  </g>\r\n  <g id=\"pane3d_2\">\r\n   <g id=\"patch_4\">\r\n    <path d=\"M 188.108936 160.951075 \r\nL 388.395181 200.427223 \r\nL 396.774918 61.432405 \r\nL 186.05045 26.024902 \r\n\" style=\"fill:#e6e6e6;opacity:0.5;stroke:#e6e6e6;stroke-linejoin:miter;\"/>\r\n   </g>\r\n  </g>\r\n  <g id=\"pane3d_3\">\r\n   <g id=\"patch_5\">\r\n    <path d=\"M 64.468276 231.56215 \r\nL 275.196469 277.538555 \r\nL 388.395181 200.427223 \r\nL 188.108936 160.951075 \r\n\" style=\"fill:#ececec;opacity:0.5;stroke:#ececec;stroke-linejoin:miter;\"/>\r\n   </g>\r\n  </g>\r\n  <g id=\"axis3d_1\">\r\n   <g id=\"line2d_1\">\r\n    <path d=\"M 64.468276 231.56215 \r\nL 275.196469 277.538555 \r\n\" style=\"fill:none;stroke:#000000;stroke-linecap:square;stroke-width:0.8;\"/>\r\n   </g>\r\n   <g id=\"text_1\">\r\n    <!-- X -->\r\n    <defs>\r\n     <path d=\"M 6.296875 72.90625 \r\nL 16.890625 72.90625 \r\nL 35.015625 45.796875 \r\nL 53.21875 72.90625 \r\nL 63.8125 72.90625 \r\nL 40.375 37.890625 \r\nL 65.375 0 \r\nL 54.78125 0 \r\nL 34.28125 31 \r\nL 13.625 0 \r\nL 2.984375 0 \r\nL 29 38.921875 \r\nz\r\n\" id=\"DejaVuSans-88\"/>\r\n    </defs>\r\n    <g transform=\"translate(147.294095 285.719524)scale(0.1 -0.1)\">\r\n     <use xlink:href=\"#DejaVuSans-88\"/>\r\n    </g>\r\n   </g>\r\n   <g id=\"Line3DCollection_1\">\r\n    <path d=\"M 73.777326 233.593186 \r\nL 196.985112 162.700558 \r\nL 195.369799 27.590808 \r\n\" style=\"fill:none;stroke:#b0b0b0;stroke-width:0.8;\"/>\r\n    <path d=\"M 104.746495 240.35 \r\nL 226.495256 168.516967 \r\nL 226.366265 32.799067 \r\n\" style=\"fill:none;stroke:#b0b0b0;stroke-width:0.8;\"/>\r\n    <path d=\"M 136.143444 247.200146 \r\nL 256.383315 174.407863 \r\nL 257.779953 38.07743 \r\n\" style=\"fill:none;stroke:#b0b0b0;stroke-width:0.8;\"/>\r\n    <path d=\"M 167.977096 254.145571 \r\nL 286.656595 180.374685 \r\nL 289.619345 43.427323 \r\n\" style=\"fill:none;stroke:#b0b0b0;stroke-width:0.8;\"/>\r\n    <path d=\"M 200.256628 261.188278 \r\nL 317.322591 186.418911 \r\nL 321.893152 48.85021 \r\n\" style=\"fill:none;stroke:#b0b0b0;stroke-width:0.8;\"/>\r\n    <path d=\"M 232.991473 268.330324 \r\nL 348.388995 192.542058 \r\nL 354.610327 54.347594 \r\n\" style=\"fill:none;stroke:#b0b0b0;stroke-width:0.8;\"/>\r\n    <path d=\"M 266.191334 275.573827 \r\nL 379.863702 198.74568 \r\nL 387.780069 59.921023 \r\n\" style=\"fill:none;stroke:#b0b0b0;stroke-width:0.8;\"/>\r\n   </g>\r\n   <g id=\"xtick_1\">\r\n    <g id=\"line2d_2\">\r\n     <path d=\"M 74.838765 232.982444 \r\nL 71.650491 234.816947 \r\n\" style=\"fill:none;stroke:#000000;stroke-linecap:square;stroke-width:0.8;\"/>\r\n    </g>\r\n    <g id=\"text_2\">\r\n     <!-- 10 -->\r\n     <defs>\r\n      <path d=\"M 12.40625 8.296875 \r\nL 28.515625 8.296875 \r\nL 28.515625 63.921875 \r\nL 10.984375 60.40625 \r\nL 10.984375 69.390625 \r\nL 28.421875 72.90625 \r\nL 38.28125 72.90625 \r\nL 38.28125 8.296875 \r\nL 54.390625 8.296875 \r\nL 54.390625 0 \r\nL 12.40625 0 \r\nz\r\n\" id=\"DejaVuSans-49\"/>\r\n      <path d=\"M 31.78125 66.40625 \r\nQ 24.171875 66.40625 20.328125 58.90625 \r\nQ 16.5 51.421875 16.5 36.375 \r\nQ 16.5 21.390625 20.328125 13.890625 \r\nQ 24.171875 6.390625 31.78125 6.390625 \r\nQ 39.453125 6.390625 43.28125 13.890625 \r\nQ 47.125 21.390625 47.125 36.375 \r\nQ 47.125 51.421875 43.28125 58.90625 \r\nQ 39.453125 66.40625 31.78125 66.40625 \r\nz\r\nM 31.78125 74.21875 \r\nQ 44.046875 74.21875 50.515625 64.515625 \r\nQ 56.984375 54.828125 56.984375 36.375 \r\nQ 56.984375 17.96875 50.515625 8.265625 \r\nQ 44.046875 -1.421875 31.78125 -1.421875 \r\nQ 19.53125 -1.421875 13.0625 8.265625 \r\nQ 6.59375 17.96875 6.59375 36.375 \r\nQ 6.59375 54.828125 13.0625 64.515625 \r\nQ 19.53125 74.21875 31.78125 74.21875 \r\nz\r\n\" id=\"DejaVuSans-48\"/>\r\n     </defs>\r\n     <g transform=\"translate(59.752232 254.173616)scale(0.1 -0.1)\">\r\n      <use xlink:href=\"#DejaVuSans-49\"/>\r\n      <use x=\"63.623047\" xlink:href=\"#DejaVuSans-48\"/>\r\n     </g>\r\n    </g>\r\n   </g>\r\n   <g id=\"xtick_2\">\r\n    <g id=\"line2d_3\">\r\n     <path d=\"M 105.795878 239.730853 \r\nL 102.643791 241.590617 \r\n\" style=\"fill:none;stroke:#000000;stroke-linecap:square;stroke-width:0.8;\"/>\r\n    </g>\r\n    <g id=\"text_3\">\r\n     <!-- 15 -->\r\n     <defs>\r\n      <path d=\"M 10.796875 72.90625 \r\nL 49.515625 72.90625 \r\nL 49.515625 64.59375 \r\nL 19.828125 64.59375 \r\nL 19.828125 46.734375 \r\nQ 21.96875 47.46875 24.109375 47.828125 \r\nQ 26.265625 48.1875 28.421875 48.1875 \r\nQ 40.625 48.1875 47.75 41.5 \r\nQ 54.890625 34.8125 54.890625 23.390625 \r\nQ 54.890625 11.625 47.5625 5.09375 \r\nQ 40.234375 -1.421875 26.90625 -1.421875 \r\nQ 22.3125 -1.421875 17.546875 -0.640625 \r\nQ 12.796875 0.140625 7.71875 1.703125 \r\nL 7.71875 11.625 \r\nQ 12.109375 9.234375 16.796875 8.0625 \r\nQ 21.484375 6.890625 26.703125 6.890625 \r\nQ 35.15625 6.890625 40.078125 11.328125 \r\nQ 45.015625 15.765625 45.015625 23.390625 \r\nQ 45.015625 31 40.078125 35.4375 \r\nQ 35.15625 39.890625 26.703125 39.890625 \r\nQ 22.75 39.890625 18.8125 39.015625 \r\nQ 14.890625 38.140625 10.796875 36.28125 \r\nz\r\n\" id=\"DejaVuSans-53\"/>\r\n     </defs>\r\n     <g transform=\"translate(90.718273 261.030421)scale(0.1 -0.1)\">\r\n      <use xlink:href=\"#DejaVuSans-49\"/>\r\n      <use x=\"63.623047\" xlink:href=\"#DejaVuSans-53\"/>\r\n     </g>\r\n    </g>\r\n   </g>\r\n   <g id=\"xtick_3\">\r\n    <g id=\"line2d_4\">\r\n     <path d=\"M 137.180335 246.57242 \r\nL 134.065743 248.457969 \r\n\" style=\"fill:none;stroke:#000000;stroke-linecap:square;stroke-width:0.8;\"/>\r\n    </g>\r\n    <g id=\"text_4\">\r\n     <!-- 20 -->\r\n     <defs>\r\n      <path d=\"M 19.1875 8.296875 \r\nL 53.609375 8.296875 \r\nL 53.609375 0 \r\nL 7.328125 0 \r\nL 7.328125 8.296875 \r\nQ 12.9375 14.109375 22.625 23.890625 \r\nQ 32.328125 33.6875 34.8125 36.53125 \r\nQ 39.546875 41.84375 41.421875 45.53125 \r\nQ 43.3125 49.21875 43.3125 52.78125 \r\nQ 43.3125 58.59375 39.234375 62.25 \r\nQ 35.15625 65.921875 28.609375 65.921875 \r\nQ 23.96875 65.921875 18.8125 64.3125 \r\nQ 13.671875 62.703125 7.8125 59.421875 \r\nL 7.8125 69.390625 \r\nQ 13.765625 71.78125 18.9375 73 \r\nQ 24.125 74.21875 28.421875 74.21875 \r\nQ 39.75 74.21875 46.484375 68.546875 \r\nQ 53.21875 62.890625 53.21875 53.421875 \r\nQ 53.21875 48.921875 51.53125 44.890625 \r\nQ 49.859375 40.875 45.40625 35.40625 \r\nQ 44.1875 33.984375 37.640625 27.21875 \r\nQ 31.109375 20.453125 19.1875 8.296875 \r\nz\r\n\" id=\"DejaVuSans-50\"/>\r\n     </defs>\r\n     <g transform=\"translate(122.112738 267.982091)scale(0.1 -0.1)\">\r\n      <use xlink:href=\"#DejaVuSans-50\"/>\r\n      <use x=\"63.623047\" xlink:href=\"#DejaVuSans-48\"/>\r\n     </g>\r\n    </g>\r\n   </g>\r\n   <g id=\"xtick_4\">\r\n    <g id=\"line2d_5\">\r\n     <path d=\"M 169.001046 253.509086 \r\nL 165.925301 255.420962 \r\n\" style=\"fill:none;stroke:#000000;stroke-linecap:square;stroke-width:0.8;\"/>\r\n    </g>\r\n    <g id=\"text_5\">\r\n     <!-- 25 -->\r\n     <g transform=\"translate(153.944581 275.03061)scale(0.1 -0.1)\">\r\n      <use xlink:href=\"#DejaVuSans-50\"/>\r\n      <use x=\"63.623047\" xlink:href=\"#DejaVuSans-53\"/>\r\n     </g>\r\n    </g>\r\n   </g>\r\n   <g id=\"xtick_5\">\r\n    <g id=\"line2d_6\">\r\n     <path d=\"M 201.267171 260.54285 \r\nL 198.231671 262.481606 \r\n\" style=\"fill:none;stroke:#000000;stroke-linecap:square;stroke-width:0.8;\"/>\r\n    </g>\r\n    <g id=\"text_6\">\r\n     <!-- 30 -->\r\n     <defs>\r\n      <path d=\"M 40.578125 39.3125 \r\nQ 47.65625 37.796875 51.625 33 \r\nQ 55.609375 28.21875 55.609375 21.1875 \r\nQ 55.609375 10.40625 48.1875 4.484375 \r\nQ 40.765625 -1.421875 27.09375 -1.421875 \r\nQ 22.515625 -1.421875 17.65625 -0.515625 \r\nQ 12.796875 0.390625 7.625 2.203125 \r\nL 7.625 11.71875 \r\nQ 11.71875 9.328125 16.59375 8.109375 \r\nQ 21.484375 6.890625 26.8125 6.890625 \r\nQ 36.078125 6.890625 40.9375 10.546875 \r\nQ 45.796875 14.203125 45.796875 21.1875 \r\nQ 45.796875 27.640625 41.28125 31.265625 \r\nQ 36.765625 34.90625 28.71875 34.90625 \r\nL 20.21875 34.90625 \r\nL 20.21875 43.015625 \r\nL 29.109375 43.015625 \r\nQ 36.375 43.015625 40.234375 45.921875 \r\nQ 44.09375 48.828125 44.09375 54.296875 \r\nQ 44.09375 59.90625 40.109375 62.90625 \r\nQ 36.140625 65.921875 28.71875 65.921875 \r\nQ 24.65625 65.921875 20.015625 65.03125 \r\nQ 15.375 64.15625 9.8125 62.3125 \r\nL 9.8125 71.09375 \r\nQ 15.4375 72.65625 20.34375 73.4375 \r\nQ 25.25 74.21875 29.59375 74.21875 \r\nQ 40.828125 74.21875 47.359375 69.109375 \r\nQ 53.90625 64.015625 53.90625 55.328125 \r\nQ 53.90625 49.265625 50.4375 45.09375 \r\nQ 46.96875 40.921875 40.578125 39.3125 \r\nz\r\n\" id=\"DejaVuSans-51\"/>\r\n     </defs>\r\n     <g transform=\"translate(186.223006 282.178015)scale(0.1 -0.1)\">\r\n      <use xlink:href=\"#DejaVuSans-51\"/>\r\n      <use x=\"63.623047\" xlink:href=\"#DejaVuSans-48\"/>\r\n     </g>\r\n    </g>\r\n   </g>\r\n   <g id=\"xtick_6\">\r\n    <g id=\"line2d_7\">\r\n     <path d=\"M 233.988128 267.675763 \r\nL 230.994319 269.641972 \r\n\" style=\"fill:none;stroke:#000000;stroke-linecap:square;stroke-width:0.8;\"/>\r\n    </g>\r\n    <g id=\"text_7\">\r\n     <!-- 35 -->\r\n     <g transform=\"translate(218.957477 289.426403)scale(0.1 -0.1)\">\r\n      <use xlink:href=\"#DejaVuSans-51\"/>\r\n      <use x=\"63.623047\" xlink:href=\"#DejaVuSans-53\"/>\r\n     </g>\r\n    </g>\r\n   </g>\r\n   <g id=\"xtick_7\">\r\n    <g id=\"line2d_8\">\r\n     <path d=\"M 267.173602 274.909937 \r\nL 264.222979 276.904185 \r\n\" style=\"fill:none;stroke:#000000;stroke-linecap:square;stroke-width:0.8;\"/>\r\n    </g>\r\n    <g id=\"text_8\">\r\n     <!-- 40 -->\r\n     <defs>\r\n      <path d=\"M 37.796875 64.3125 \r\nL 12.890625 25.390625 \r\nL 37.796875 25.390625 \r\nz\r\nM 35.203125 72.90625 \r\nL 47.609375 72.90625 \r\nL 47.609375 25.390625 \r\nL 58.015625 25.390625 \r\nL 58.015625 17.1875 \r\nL 47.609375 17.1875 \r\nL 47.609375 0 \r\nL 37.796875 0 \r\nL 37.796875 17.1875 \r\nL 4.890625 17.1875 \r\nL 4.890625 26.703125 \r\nz\r\n\" id=\"DejaVuSans-52\"/>\r\n     </defs>\r\n     <g transform=\"translate(252.157728 296.777928)scale(0.1 -0.1)\">\r\n      <use xlink:href=\"#DejaVuSans-52\"/>\r\n      <use x=\"63.623047\" xlink:href=\"#DejaVuSans-48\"/>\r\n     </g>\r\n    </g>\r\n   </g>\r\n  </g>\r\n  <g id=\"axis3d_2\">\r\n   <g id=\"line2d_9\">\r\n    <path d=\"M 388.395181 200.427223 \r\nL 275.196469 277.538555 \r\n\" style=\"fill:none;stroke:#000000;stroke-linecap:square;stroke-width:0.8;\"/>\r\n   </g>\r\n   <g id=\"text_9\">\r\n    <!-- Y -->\r\n    <defs>\r\n     <path d=\"M -0.203125 72.90625 \r\nL 10.40625 72.90625 \r\nL 30.609375 42.921875 \r\nL 50.6875 72.90625 \r\nL 61.28125 72.90625 \r\nL 35.5 34.71875 \r\nL 35.5 0 \r\nL 25.59375 0 \r\nL 25.59375 34.71875 \r\nz\r\n\" id=\"DejaVuSans-89\"/>\r\n    </defs>\r\n    <g transform=\"translate(358.81165 264.182002)scale(0.1 -0.1)\">\r\n     <use xlink:href=\"#DejaVuSans-89\"/>\r\n    </g>\r\n   </g>\r\n   <g id=\"Line3DCollection_2\">\r\n    <path d=\"M 61.859336 86.384506 \r\nL 70.454342 228.143512 \r\nL 280.694505 273.793275 \r\n\" style=\"fill:none;stroke:#b0b0b0;stroke-width:0.8;\"/>\r\n    <path d=\"M 86.956301 74.186831 \r\nL 94.160068 214.605193 \r\nL 302.450006 258.973357 \r\n\" style=\"fill:none;stroke:#b0b0b0;stroke-width:0.8;\"/>\r\n    <path d=\"M 111.33303 62.339206 \r\nL 117.219507 201.435967 \r\nL 323.585538 244.575763 \r\n\" style=\"fill:none;stroke:#b0b0b0;stroke-width:0.8;\"/>\r\n    <path d=\"M 135.020089 50.826776 \r\nL 139.658733 188.620944 \r\nL 344.127229 230.582696 \r\n\" style=\"fill:none;stroke:#b0b0b0;stroke-width:0.8;\"/>\r\n    <path d=\"M 158.046338 39.635514 \r\nL 161.502436 176.146025 \r\nL 364.09976 216.977342 \r\n\" style=\"fill:none;stroke:#b0b0b0;stroke-width:0.8;\"/>\r\n    <path d=\"M 180.43905 28.752165 \r\nL 182.774013 163.997845 \r\nL 383.526464 203.743809 \r\n\" style=\"fill:none;stroke:#b0b0b0;stroke-width:0.8;\"/>\r\n   </g>\r\n   <g id=\"xtick_8\">\r\n    <g id=\"line2d_10\">\r\n     <path d=\"M 278.934864 273.411201 \r\nL 284.217726 274.558277 \r\n\" style=\"fill:none;stroke:#000000;stroke-linecap:square;stroke-width:0.8;\"/>\r\n    </g>\r\n    <g id=\"text_10\">\r\n     <!-- 100 -->\r\n     <g transform=\"translate(284.469999 292.798212)scale(0.1 -0.1)\">\r\n      <use xlink:href=\"#DejaVuSans-49\"/>\r\n      <use x=\"63.623047\" xlink:href=\"#DejaVuSans-48\"/>\r\n      <use x=\"127.246094\" xlink:href=\"#DejaVuSans-48\"/>\r\n     </g>\r\n    </g>\r\n   </g>\r\n   <g id=\"xtick_9\">\r\n    <g id=\"line2d_11\">\r\n     <path d=\"M 300.7078 258.602247 \r\nL 305.938261 259.716395 \r\n\" style=\"fill:none;stroke:#000000;stroke-linecap:square;stroke-width:0.8;\"/>\r\n    </g>\r\n    <g id=\"text_11\">\r\n     <!-- 120 -->\r\n     <g transform=\"translate(306.023585 277.819945)scale(0.1 -0.1)\">\r\n      <use xlink:href=\"#DejaVuSans-49\"/>\r\n      <use x=\"63.623047\" xlink:href=\"#DejaVuSans-50\"/>\r\n      <use x=\"127.246094\" xlink:href=\"#DejaVuSans-48\"/>\r\n     </g>\r\n    </g>\r\n   </g>\r\n   <g id=\"xtick_10\">\r\n    <g id=\"line2d_12\">\r\n     <path d=\"M 321.860495 244.215152 \r\nL 327.039375 245.297771 \r\n\" style=\"fill:none;stroke:#000000;stroke-linecap:square;stroke-width:0.8;\"/>\r\n    </g>\r\n    <g id=\"text_12\">\r\n     <!-- 140 -->\r\n     <g transform=\"translate(326.963219 263.268332)scale(0.1 -0.1)\">\r\n      <use xlink:href=\"#DejaVuSans-49\"/>\r\n      <use x=\"63.623047\" xlink:href=\"#DejaVuSans-52\"/>\r\n      <use x=\"127.246094\" xlink:href=\"#DejaVuSans-48\"/>\r\n     </g>\r\n    </g>\r\n   </g>\r\n   <g id=\"xtick_11\">\r\n    <g id=\"line2d_13\">\r\n     <path d=\"M 342.419079 230.232143 \r\nL 347.547191 231.284553 \r\n\" style=\"fill:none;stroke:#000000;stroke-linecap:square;stroke-width:0.8;\"/>\r\n    </g>\r\n    <g id=\"text_13\">\r\n     <!-- 160 -->\r\n     <defs>\r\n      <path d=\"M 33.015625 40.375 \r\nQ 26.375 40.375 22.484375 35.828125 \r\nQ 18.609375 31.296875 18.609375 23.390625 \r\nQ 18.609375 15.53125 22.484375 10.953125 \r\nQ 26.375 6.390625 33.015625 6.390625 \r\nQ 39.65625 6.390625 43.53125 10.953125 \r\nQ 47.40625 15.53125 47.40625 23.390625 \r\nQ 47.40625 31.296875 43.53125 35.828125 \r\nQ 39.65625 40.375 33.015625 40.375 \r\nz\r\nM 52.59375 71.296875 \r\nL 52.59375 62.3125 \r\nQ 48.875 64.0625 45.09375 64.984375 \r\nQ 41.3125 65.921875 37.59375 65.921875 \r\nQ 27.828125 65.921875 22.671875 59.328125 \r\nQ 17.53125 52.734375 16.796875 39.40625 \r\nQ 19.671875 43.65625 24.015625 45.921875 \r\nQ 28.375 48.1875 33.59375 48.1875 \r\nQ 44.578125 48.1875 50.953125 41.515625 \r\nQ 57.328125 34.859375 57.328125 23.390625 \r\nQ 57.328125 12.15625 50.6875 5.359375 \r\nQ 44.046875 -1.421875 33.015625 -1.421875 \r\nQ 20.359375 -1.421875 13.671875 8.265625 \r\nQ 6.984375 17.96875 6.984375 36.375 \r\nQ 6.984375 53.65625 15.1875 63.9375 \r\nQ 23.390625 74.21875 37.203125 74.21875 \r\nQ 40.921875 74.21875 44.703125 73.484375 \r\nQ 48.484375 72.75 52.59375 71.296875 \r\nz\r\n\" id=\"DejaVuSans-54\"/>\r\n     </defs>\r\n     <g transform=\"translate(347.314766 249.1254)scale(0.1 -0.1)\">\r\n      <use xlink:href=\"#DejaVuSans-49\"/>\r\n      <use x=\"63.623047\" xlink:href=\"#DejaVuSans-54\"/>\r\n      <use x=\"127.246094\" xlink:href=\"#DejaVuSans-48\"/>\r\n     </g>\r\n    </g>\r\n   </g>\r\n   <g id=\"xtick_12\">\r\n    <g id=\"line2d_14\">\r\n     <path d=\"M 362.408236 216.636434 \r\nL 367.486386 217.65988 \r\n\" style=\"fill:none;stroke:#000000;stroke-linecap:square;stroke-width:0.8;\"/>\r\n    </g>\r\n    <g id=\"text_14\">\r\n     <!-- 180 -->\r\n     <defs>\r\n      <path d=\"M 31.78125 34.625 \r\nQ 24.75 34.625 20.71875 30.859375 \r\nQ 16.703125 27.09375 16.703125 20.515625 \r\nQ 16.703125 13.921875 20.71875 10.15625 \r\nQ 24.75 6.390625 31.78125 6.390625 \r\nQ 38.8125 6.390625 42.859375 10.171875 \r\nQ 46.921875 13.96875 46.921875 20.515625 \r\nQ 46.921875 27.09375 42.890625 30.859375 \r\nQ 38.875 34.625 31.78125 34.625 \r\nz\r\nM 21.921875 38.8125 \r\nQ 15.578125 40.375 12.03125 44.71875 \r\nQ 8.5 49.078125 8.5 55.328125 \r\nQ 8.5 64.0625 14.71875 69.140625 \r\nQ 20.953125 74.21875 31.78125 74.21875 \r\nQ 42.671875 74.21875 48.875 69.140625 \r\nQ 55.078125 64.0625 55.078125 55.328125 \r\nQ 55.078125 49.078125 51.53125 44.71875 \r\nQ 48 40.375 41.703125 38.8125 \r\nQ 48.828125 37.15625 52.796875 32.3125 \r\nQ 56.78125 27.484375 56.78125 20.515625 \r\nQ 56.78125 9.90625 50.3125 4.234375 \r\nQ 43.84375 -1.421875 31.78125 -1.421875 \r\nQ 19.734375 -1.421875 13.25 4.234375 \r\nQ 6.78125 9.90625 6.78125 20.515625 \r\nQ 6.78125 27.484375 10.78125 32.3125 \r\nQ 14.796875 37.15625 21.921875 38.8125 \r\nz\r\nM 18.3125 54.390625 \r\nQ 18.3125 48.734375 21.84375 45.5625 \r\nQ 25.390625 42.390625 31.78125 42.390625 \r\nQ 38.140625 42.390625 41.71875 45.5625 \r\nQ 45.3125 48.734375 45.3125 54.390625 \r\nQ 45.3125 60.0625 41.71875 63.234375 \r\nQ 38.140625 66.40625 31.78125 66.40625 \r\nQ 25.390625 66.40625 21.84375 63.234375 \r\nQ 18.3125 60.0625 18.3125 54.390625 \r\nz\r\n\" id=\"DejaVuSans-56\"/>\r\n     </defs>\r\n     <g transform=\"translate(367.102657 235.37417)scale(0.1 -0.1)\">\r\n      <use xlink:href=\"#DejaVuSans-49\"/>\r\n      <use x=\"63.623047\" xlink:href=\"#DejaVuSans-56\"/>\r\n      <use x=\"127.246094\" xlink:href=\"#DejaVuSans-48\"/>\r\n     </g>\r\n    </g>\r\n   </g>\r\n   <g id=\"xtick_13\">\r\n    <g id=\"line2d_15\">\r\n     <path d=\"M 381.8513 203.412151 \r\nL 386.880284 204.407815 \r\n\" style=\"fill:none;stroke:#000000;stroke-linecap:square;stroke-width:0.8;\"/>\r\n    </g>\r\n    <g id=\"text_15\">\r\n     <!-- 200 -->\r\n     <g transform=\"translate(386.349988 221.998592)scale(0.1 -0.1)\">\r\n      <use xlink:href=\"#DejaVuSans-50\"/>\r\n      <use x=\"63.623047\" xlink:href=\"#DejaVuSans-48\"/>\r\n      <use x=\"127.246094\" xlink:href=\"#DejaVuSans-48\"/>\r\n     </g>\r\n    </g>\r\n   </g>\r\n  </g>\r\n  <g id=\"axis3d_3\">\r\n   <g id=\"line2d_16\">\r\n    <path d=\"M 388.395181 200.427223 \r\nL 396.774918 61.432405 \r\n\" style=\"fill:none;stroke:#000000;stroke-linecap:square;stroke-width:0.8;\"/>\r\n   </g>\r\n   <g id=\"text_16\">\r\n    <!-- Z -->\r\n    <defs>\r\n     <path d=\"M 5.609375 72.90625 \r\nL 62.890625 72.90625 \r\nL 62.890625 65.375 \r\nL 16.796875 8.296875 \r\nL 64.015625 8.296875 \r\nL 64.015625 0 \r\nL 4.5 0 \r\nL 4.5 7.515625 \r\nL 50.59375 64.59375 \r\nL 5.609375 64.59375 \r\nz\r\n\" id=\"DejaVuSans-90\"/>\r\n    </defs>\r\n    <g transform=\"translate(431.743903 131.656599)scale(0.1 -0.1)\">\r\n     <use xlink:href=\"#DejaVuSans-90\"/>\r\n    </g>\r\n   </g>\r\n   <g id=\"Line3DCollection_3\">\r\n    <path d=\"M 389.418163 183.459003 \r\nL 187.857159 144.448022 \r\nL 63.377051 214.241707 \r\n\" style=\"fill:none;stroke:#b0b0b0;stroke-width:0.8;\"/>\r\n    <path d=\"M 391.074438 155.98634 \r\nL 187.449799 117.74711 \r\nL 61.609315 186.183341 \r\n\" style=\"fill:none;stroke:#b0b0b0;stroke-width:0.8;\"/>\r\n    <path d=\"M 392.76528 127.940325 \r\nL 187.0343 90.512669 \r\nL 59.803445 157.519705 \r\n\" style=\"fill:none;stroke:#b0b0b0;stroke-width:0.8;\"/>\r\n    <path d=\"M 394.491781 99.302822 \r\nL 186.610415 62.728547 \r\nL 57.958195 128.231 \r\n\" style=\"fill:none;stroke:#b0b0b0;stroke-width:0.8;\"/>\r\n    <path d=\"M 396.255082 70.054919 \r\nL 186.177887 34.377932 \r\nL 56.072262 98.296554 \r\n\" style=\"fill:none;stroke:#b0b0b0;stroke-width:0.8;\"/>\r\n   </g>\r\n   <g id=\"xtick_14\">\r\n    <g id=\"line2d_17\">\r\n     <path d=\"M 387.73605 183.13344 \r\nL 392.785908 184.110811 \r\n\" style=\"fill:none;stroke:#000000;stroke-linecap:square;stroke-width:0.8;\"/>\r\n    </g>\r\n    <g id=\"text_17\">\r\n     <!-- 12 -->\r\n     <g transform=\"translate(402.377663 189.233182)scale(0.1 -0.1)\">\r\n      <use xlink:href=\"#DejaVuSans-49\"/>\r\n      <use x=\"63.623047\" xlink:href=\"#DejaVuSans-50\"/>\r\n     </g>\r\n    </g>\r\n   </g>\r\n   <g id=\"xtick_15\">\r\n    <g id=\"line2d_18\">\r\n     <path d=\"M 389.374377 155.667081 \r\nL 394.478154 156.625533 \r\n\" style=\"fill:none;stroke:#000000;stroke-linecap:square;stroke-width:0.8;\"/>\r\n    </g>\r\n    <g id=\"text_18\">\r\n     <!-- 14 -->\r\n     <g transform=\"translate(404.229822 161.795873)scale(0.1 -0.1)\">\r\n      <use xlink:href=\"#DejaVuSans-49\"/>\r\n      <use x=\"63.623047\" xlink:href=\"#DejaVuSans-52\"/>\r\n     </g>\r\n    </g>\r\n   </g>\r\n   <g id=\"xtick_16\">\r\n    <g id=\"line2d_19\">\r\n     <path d=\"M 391.046884 127.627706 \r\nL 396.205742 128.566232 \r\n\" style=\"fill:none;stroke:#000000;stroke-linecap:square;stroke-width:0.8;\"/>\r\n    </g>\r\n    <g id=\"text_19\">\r\n     <!-- 16 -->\r\n     <g transform=\"translate(406.120558 133.787092)scale(0.1 -0.1)\">\r\n      <use xlink:href=\"#DejaVuSans-49\"/>\r\n      <use x=\"63.623047\" xlink:href=\"#DejaVuSans-54\"/>\r\n     </g>\r\n    </g>\r\n   </g>\r\n   <g id=\"xtick_17\">\r\n    <g id=\"line2d_20\">\r\n     <path d=\"M 392.754651 98.997194 \r\nL 397.96979 99.914737 \r\n\" style=\"fill:none;stroke:#000000;stroke-linecap:square;stroke-width:0.8;\"/>\r\n    </g>\r\n    <g id=\"text_20\">\r\n     <!-- 18 -->\r\n     <g transform=\"translate(408.051089 105.188796)scale(0.1 -0.1)\">\r\n      <use xlink:href=\"#DejaVuSans-49\"/>\r\n      <use x=\"63.623047\" xlink:href=\"#DejaVuSans-56\"/>\r\n     </g>\r\n    </g>\r\n   </g>\r\n   <g id=\"xtick_18\">\r\n    <g id=\"line2d_21\">\r\n     <path d=\"M 394.498805 69.756654 \r\nL 399.771467 70.652099 \r\n\" style=\"fill:none;stroke:#000000;stroke-linecap:square;stroke-width:0.8;\"/>\r\n    </g>\r\n    <g id=\"text_21\">\r\n     <!-- 20 -->\r\n     <g transform=\"translate(410.022685 75.982175)scale(0.1 -0.1)\">\r\n      <use xlink:href=\"#DejaVuSans-50\"/>\r\n      <use x=\"63.623047\" xlink:href=\"#DejaVuSans-48\"/>\r\n     </g>\r\n    </g>\r\n   </g>\r\n  </g>\r\n  <g id=\"axes_1\">\r\n   <g id=\"Path3DCollection_1\">\r\n    <defs>\r\n     <path d=\"M 0 -2.236068 \r\nL -0.502029 -0.690983 \r\nL -2.126627 -0.690983 \r\nL -0.812299 0.263932 \r\nL -1.314328 1.809017 \r\nL -0 0.854102 \r\nL 1.314328 1.809017 \r\nL 0.812299 0.263932 \r\nL 2.126627 -0.690983 \r\nL 0.502029 -0.690983 \r\nz\r\n\" id=\"C0_0_64ada1f8ec\"/>\r\n    </defs>\r\n    <g clip-path=\"url(#p748373a3a1)\">\r\n     <use style=\"fill:#0000ff;fill-opacity:0.892899;stroke:#0000ff;stroke-opacity:0.892899;\" x=\"163.36169\" xlink:href=\"#C0_0_64ada1f8ec\" y=\"113.357667\"/>\r\n    </g>\r\n    <g clip-path=\"url(#p748373a3a1)\">\r\n     <use style=\"fill:#0000ff;fill-opacity:0.761426;stroke:#0000ff;stroke-opacity:0.761426;\" x=\"287.363129\" xlink:href=\"#C0_0_64ada1f8ec\" y=\"192.482112\"/>\r\n    </g>\r\n    <g clip-path=\"url(#p748373a3a1)\">\r\n     <use style=\"fill:#0000ff;fill-opacity:0.767905;stroke:#0000ff;stroke-opacity:0.767905;\" x=\"161.835304\" xlink:href=\"#C0_0_64ada1f8ec\" y=\"201.252055\"/>\r\n    </g>\r\n    <g clip-path=\"url(#p748373a3a1)\">\r\n     <use style=\"fill:#0000ff;fill-opacity:0.690729;stroke:#0000ff;stroke-opacity:0.690729;\" x=\"134.349645\" xlink:href=\"#C0_0_64ada1f8ec\" y=\"77.53487\"/>\r\n    </g>\r\n    <g clip-path=\"url(#p748373a3a1)\">\r\n     <use style=\"fill:#0000ff;fill-opacity:0.649381;stroke:#0000ff;stroke-opacity:0.649381;\" x=\"129.477304\" xlink:href=\"#C0_0_64ada1f8ec\" y=\"204.99342\"/>\r\n    </g>\r\n    <g clip-path=\"url(#p748373a3a1)\">\r\n     <use style=\"fill:#0000ff;stroke:#0000ff;\" x=\"269.96521\" xlink:href=\"#C0_0_64ada1f8ec\" y=\"206.848042\"/>\r\n    </g>\r\n    <g clip-path=\"url(#p748373a3a1)\">\r\n     <use style=\"fill:#0000ff;fill-opacity:0.663043;stroke:#0000ff;stroke-opacity:0.663043;\" x=\"139.271143\" xlink:href=\"#C0_0_64ada1f8ec\" y=\"221.251733\"/>\r\n    </g>\r\n    <g clip-path=\"url(#p748373a3a1)\">\r\n     <use style=\"fill:#0000ff;fill-opacity:0.724371;stroke:#0000ff;stroke-opacity:0.724371;\" x=\"288.735454\" xlink:href=\"#C0_0_64ada1f8ec\" y=\"169.265605\"/>\r\n    </g>\r\n    <g clip-path=\"url(#p748373a3a1)\">\r\n     <use style=\"fill:#0000ff;fill-opacity:0.616821;stroke:#0000ff;stroke-opacity:0.616821;\" x=\"224.599691\" xlink:href=\"#C0_0_64ada1f8ec\" y=\"133.398518\"/>\r\n    </g>\r\n    <g clip-path=\"url(#p748373a3a1)\">\r\n     <use style=\"fill:#0000ff;fill-opacity:0.684837;stroke:#0000ff;stroke-opacity:0.684837;\" x=\"166.004997\" xlink:href=\"#C0_0_64ada1f8ec\" y=\"210.23656\"/>\r\n    </g>\r\n    <g clip-path=\"url(#p748373a3a1)\">\r\n     <use style=\"fill:#0000ff;fill-opacity:0.577853;stroke:#0000ff;stroke-opacity:0.577853;\" x=\"286.327421\" xlink:href=\"#C0_0_64ada1f8ec\" y=\"191.93895\"/>\r\n    </g>\r\n    <g clip-path=\"url(#p748373a3a1)\">\r\n     <use style=\"fill:#0000ff;fill-opacity:0.429053;stroke:#0000ff;stroke-opacity:0.429053;\" x=\"319.084619\" xlink:href=\"#C0_0_64ada1f8ec\" y=\"187.955818\"/>\r\n    </g>\r\n    <g clip-path=\"url(#p748373a3a1)\">\r\n     <use style=\"fill:#0000ff;fill-opacity:0.471773;stroke:#0000ff;stroke-opacity:0.471773;\" x=\"314.393422\" xlink:href=\"#C0_0_64ada1f8ec\" y=\"161.170554\"/>\r\n    </g>\r\n    <g clip-path=\"url(#p748373a3a1)\">\r\n     <use style=\"fill:#0000ff;fill-opacity:0.488195;stroke:#0000ff;stroke-opacity:0.488195;\" x=\"310.826199\" xlink:href=\"#C0_0_64ada1f8ec\" y=\"161.300044\"/>\r\n    </g>\r\n    <g clip-path=\"url(#p748373a3a1)\">\r\n     <use style=\"fill:#0000ff;fill-opacity:0.694172;stroke:#0000ff;stroke-opacity:0.694172;\" x=\"370.9557\" xlink:href=\"#C0_0_64ada1f8ec\" y=\"94.651357\"/>\r\n    </g>\r\n    <g clip-path=\"url(#p748373a3a1)\">\r\n     <use style=\"fill:#0000ff;fill-opacity:0.493766;stroke:#0000ff;stroke-opacity:0.493766;\" x=\"228.137621\" xlink:href=\"#C0_0_64ada1f8ec\" y=\"134.280043\"/>\r\n    </g>\r\n    <g clip-path=\"url(#p748373a3a1)\">\r\n     <use style=\"fill:#0000ff;fill-opacity:0.591683;stroke:#0000ff;stroke-opacity:0.591683;\" x=\"253.906056\" xlink:href=\"#C0_0_64ada1f8ec\" y=\"119.948108\"/>\r\n    </g>\r\n    <g clip-path=\"url(#p748373a3a1)\">\r\n     <use style=\"fill:#0000ff;fill-opacity:0.706392;stroke:#0000ff;stroke-opacity:0.706392;\" x=\"142.00338\" xlink:href=\"#C0_0_64ada1f8ec\" y=\"121.888858\"/>\r\n    </g>\r\n    <g clip-path=\"url(#p748373a3a1)\">\r\n     <use style=\"fill:#0000ff;fill-opacity:0.585333;stroke:#0000ff;stroke-opacity:0.585333;\" x=\"237.350725\" xlink:href=\"#C0_0_64ada1f8ec\" y=\"123.157934\"/>\r\n    </g>\r\n    <g clip-path=\"url(#p748373a3a1)\">\r\n     <use style=\"fill:#0000ff;fill-opacity:0.818765;stroke:#0000ff;stroke-opacity:0.818765;\" x=\"186.001688\" xlink:href=\"#C0_0_64ada1f8ec\" y=\"175.885631\"/>\r\n    </g>\r\n    <g clip-path=\"url(#p748373a3a1)\">\r\n     <use style=\"fill:#0000ff;fill-opacity:0.724193;stroke:#0000ff;stroke-opacity:0.724193;\" x=\"166.365216\" xlink:href=\"#C0_0_64ada1f8ec\" y=\"153.987165\"/>\r\n    </g>\r\n    <g clip-path=\"url(#p748373a3a1)\">\r\n     <use style=\"fill:#0000ff;fill-opacity:0.681566;stroke:#0000ff;stroke-opacity:0.681566;\" x=\"235.064771\" xlink:href=\"#C0_0_64ada1f8ec\" y=\"210.013661\"/>\r\n    </g>\r\n    <g clip-path=\"url(#p748373a3a1)\">\r\n     <use style=\"fill:#0000ff;fill-opacity:0.575475;stroke:#0000ff;stroke-opacity:0.575475;\" x=\"189.438528\" xlink:href=\"#C0_0_64ada1f8ec\" y=\"111.815011\"/>\r\n    </g>\r\n    <g clip-path=\"url(#p748373a3a1)\">\r\n     <use style=\"fill:#0000ff;fill-opacity:0.667954;stroke:#0000ff;stroke-opacity:0.667954;\" x=\"139.469083\" xlink:href=\"#C0_0_64ada1f8ec\" y=\"223.182147\"/>\r\n    </g>\r\n    <g clip-path=\"url(#p748373a3a1)\">\r\n     <use style=\"fill:#0000ff;fill-opacity:0.843557;stroke:#0000ff;stroke-opacity:0.843557;\" x=\"174.307911\" xlink:href=\"#C0_0_64ada1f8ec\" y=\"138.859461\"/>\r\n    </g>\r\n    <g clip-path=\"url(#p748373a3a1)\">\r\n     <use style=\"fill:#0000ff;fill-opacity:0.3;stroke:#0000ff;stroke-opacity:0.3;\" x=\"227.287631\" xlink:href=\"#C0_0_64ada1f8ec\" y=\"163.923884\"/>\r\n    </g>\r\n    <g clip-path=\"url(#p748373a3a1)\">\r\n     <use style=\"fill:#0000ff;fill-opacity:0.721166;stroke:#0000ff;stroke-opacity:0.721166;\" x=\"306.87534\" xlink:href=\"#C0_0_64ada1f8ec\" y=\"212.73758\"/>\r\n    </g>\r\n    <g clip-path=\"url(#p748373a3a1)\">\r\n     <use style=\"fill:#0000ff;fill-opacity:0.865382;stroke:#0000ff;stroke-opacity:0.865382;\" x=\"194.69629\" xlink:href=\"#C0_0_64ada1f8ec\" y=\"90.906801\"/>\r\n    </g>\r\n    <g clip-path=\"url(#p748373a3a1)\">\r\n     <use style=\"fill:#0000ff;fill-opacity:0.575665;stroke:#0000ff;stroke-opacity:0.575665;\" x=\"112.894858\" xlink:href=\"#C0_0_64ada1f8ec\" y=\"205.602029\"/>\r\n    </g>\r\n    <g clip-path=\"url(#p748373a3a1)\">\r\n     <use style=\"fill:#0000ff;fill-opacity:0.663342;stroke:#0000ff;stroke-opacity:0.663342;\" x=\"153.603641\" xlink:href=\"#C0_0_64ada1f8ec\" y=\"79.55054\"/>\r\n    </g>\r\n   </g>\r\n  </g>\r\n </g>\r\n <defs>\r\n  <clipPath id=\"p748373a3a1\">\r\n   <rect height=\"288\" width=\"432\" x=\"7.2\" y=\"7.2\"/>\r\n  </clipPath>\r\n </defs>\r\n</svg>\r\n",
      "image/png": "[encoded data removed]"
     },
     "metadata": {
      "needs_background": "light"
     }
    }
   ],
   "source": [
    "import matplotlib.pyplot as plt\n",
    "from mpl_toolkits.mplot3d import Axes3D\n",
    "fig = plt.figure()\n",
    "ax3d = Axes3D(fig)\n",
    "x = tf.random.uniform(shape=[30, 1], minval=10, maxval=40)\n",
    "y = tf.random.uniform(shape=[30, 1], minval=100, maxval=200)\n",
    "z = tf.random.uniform(shape=[30, 1], minval=10, maxval=20)\n",
    "ax3d.scatter(x, y, z, c='b', marker='*')\n",
    "ax3d.set_xlabel('X')\n",
    "ax3d.set_ylabel('Y')\n",
    "ax3d.set_zlabel('Z')\n",
    "plt.show()"
   ]
  },
  {
   "cell_type": "code",
   "execution_count": 36,
   "metadata": {},
   "outputs": [
    {
     "output_type": "display_data",
     "data": {
      "text/plain": "<Figure size 432x288 with 1 Axes>",
      "image/svg+xml": "<?xml version=\"1.0\" encoding=\"utf-8\" standalone=\"no\"?>\r\n<!DOCTYPE svg PUBLIC \"-//W3C//DTD SVG 1.1//EN\"\r\n  \"http://www.w3.org/Graphics/SVG/1.1/DTD/svg11.dtd\">\r\n<!-- Created with matplotlib (https://matplotlib.org/) -->\r\n<svg height=\"302.4pt\" version=\"1.1\" viewBox=\"0 0 446.4 302.4\" width=\"446.4pt\" xmlns=\"http://www.w3.org/2000/svg\" xmlns:xlink=\"http://www.w3.org/1999/xlink\">\r\n <defs>\r\n  <style type=\"text/css\">\r\n*{stroke-linecap:butt;stroke-linejoin:round;}\r\n  </style>\r\n </defs>\r\n <g id=\"figure_1\">\r\n  <g id=\"patch_1\">\r\n   <path d=\"M 0 302.4 \r\nL 446.4 302.4 \r\nL 446.4 0 \r\nL 0 0 \r\nz\r\n\" style=\"fill:none;\"/>\r\n  </g>\r\n  <g id=\"patch_2\">\r\n   <path d=\"M 7.2 295.2 \r\nL 439.2 295.2 \r\nL 439.2 7.2 \r\nL 7.2 7.2 \r\nz\r\n\" style=\"fill:#ffffff;\"/>\r\n  </g>\r\n  <g id=\"pane3d_1\">\r\n   <g id=\"patch_3\">\r\n    <path d=\"M 64.468276 231.56215 \r\nL 188.108936 160.951075 \r\nL 186.05045 26.024902 \r\nL 55.516013 89.4675 \r\n\" style=\"fill:#f2f2f2;opacity:0.5;stroke:#f2f2f2;stroke-linejoin:miter;\"/>\r\n   </g>\r\n  </g>\r\n  <g id=\"pane3d_2\">\r\n   <g id=\"patch_4\">\r\n    <path d=\"M 188.108936 160.951075 \r\nL 388.395181 200.427223 \r\nL 396.774918 61.432405 \r\nL 186.05045 26.024902 \r\n\" style=\"fill:#e6e6e6;opacity:0.5;stroke:#e6e6e6;stroke-linejoin:miter;\"/>\r\n   </g>\r\n  </g>\r\n  <g id=\"pane3d_3\">\r\n   <g id=\"patch_5\">\r\n    <path d=\"M 64.468276 231.56215 \r\nL 275.196469 277.538555 \r\nL 388.395181 200.427223 \r\nL 188.108936 160.951075 \r\n\" style=\"fill:#ececec;opacity:0.5;stroke:#ececec;stroke-linejoin:miter;\"/>\r\n   </g>\r\n  </g>\r\n  <g id=\"axis3d_1\">\r\n   <g id=\"line2d_1\">\r\n    <path d=\"M 64.468276 231.56215 \r\nL 275.196469 277.538555 \r\n\" style=\"fill:none;stroke:#000000;stroke-linecap:square;stroke-width:0.8;\"/>\r\n   </g>\r\n   <g id=\"text_1\">\r\n    <!-- X -->\r\n    <defs>\r\n     <path d=\"M 6.296875 72.90625 \r\nL 16.890625 72.90625 \r\nL 35.015625 45.796875 \r\nL 53.21875 72.90625 \r\nL 63.8125 72.90625 \r\nL 40.375 37.890625 \r\nL 65.375 0 \r\nL 54.78125 0 \r\nL 34.28125 31 \r\nL 13.625 0 \r\nL 2.984375 0 \r\nL 29 38.921875 \r\nz\r\n\" id=\"DejaVuSans-88\"/>\r\n    </defs>\r\n    <g transform=\"translate(147.294095 285.719524)scale(0.1 -0.1)\">\r\n     <use xlink:href=\"#DejaVuSans-88\"/>\r\n    </g>\r\n   </g>\r\n   <g id=\"Line3DCollection_1\">\r\n    <path d=\"M 77.315627 234.365168 \r\nL 200.358191 163.365387 \r\nL 198.911762 28.185955 \r\n\" style=\"fill:none;stroke:#b0b0b0;stroke-width:0.8;\"/>\r\n    <path d=\"M 106.957924 240.832486 \r\nL 228.601386 168.932082 \r\nL 228.579233 33.170906 \r\n\" style=\"fill:none;stroke:#b0b0b0;stroke-width:0.8;\"/>\r\n    <path d=\"M 136.991704 247.385218 \r\nL 257.190394 174.566937 \r\nL 258.628513 38.220011 \r\n\" style=\"fill:none;stroke:#b0b0b0;stroke-width:0.8;\"/>\r\n    <path d=\"M 167.424774 254.025066 \r\nL 286.131606 180.271211 \r\nL 289.067019 43.334517 \r\n\" style=\"fill:none;stroke:#b0b0b0;stroke-width:0.8;\"/>\r\n    <path d=\"M 198.26515 260.753779 \r\nL 315.431571 186.046194 \r\nL 319.902363 48.515702 \r\n\" style=\"fill:none;stroke:#b0b0b0;stroke-width:0.8;\"/>\r\n    <path d=\"M 229.521064 267.573154 \r\nL 345.097 191.89321 \r\nL 351.142357 53.76488 \r\n\" style=\"fill:none;stroke:#b0b0b0;stroke-width:0.8;\"/>\r\n    <path d=\"M 261.200972 274.485036 \r\nL 375.134774 197.813614 \r\nL 382.795018 59.083397 \r\n\" style=\"fill:none;stroke:#b0b0b0;stroke-width:0.8;\"/>\r\n   </g>\r\n   <g id=\"xtick_1\">\r\n    <g id=\"line2d_2\">\r\n     <path d=\"M 78.375702 233.753469 \r\nL 75.191523 235.590849 \r\n\" style=\"fill:none;stroke:#000000;stroke-linecap:square;stroke-width:0.8;\"/>\r\n    </g>\r\n    <g id=\"text_2\">\r\n     <!-- 1.0 -->\r\n     <defs>\r\n      <path d=\"M 12.40625 8.296875 \r\nL 28.515625 8.296875 \r\nL 28.515625 63.921875 \r\nL 10.984375 60.40625 \r\nL 10.984375 69.390625 \r\nL 28.421875 72.90625 \r\nL 38.28125 72.90625 \r\nL 38.28125 8.296875 \r\nL 54.390625 8.296875 \r\nL 54.390625 0 \r\nL 12.40625 0 \r\nz\r\n\" id=\"DejaVuSans-49\"/>\r\n      <path d=\"M 10.6875 12.40625 \r\nL 21 12.40625 \r\nL 21 0 \r\nL 10.6875 0 \r\nz\r\n\" id=\"DejaVuSans-46\"/>\r\n      <path d=\"M 31.78125 66.40625 \r\nQ 24.171875 66.40625 20.328125 58.90625 \r\nQ 16.5 51.421875 16.5 36.375 \r\nQ 16.5 21.390625 20.328125 13.890625 \r\nQ 24.171875 6.390625 31.78125 6.390625 \r\nQ 39.453125 6.390625 43.28125 13.890625 \r\nQ 47.125 21.390625 47.125 36.375 \r\nQ 47.125 51.421875 43.28125 58.90625 \r\nQ 39.453125 66.40625 31.78125 66.40625 \r\nz\r\nM 31.78125 74.21875 \r\nQ 44.046875 74.21875 50.515625 64.515625 \r\nQ 56.984375 54.828125 56.984375 36.375 \r\nQ 56.984375 17.96875 50.515625 8.265625 \r\nQ 44.046875 -1.421875 31.78125 -1.421875 \r\nQ 19.53125 -1.421875 13.0625 8.265625 \r\nQ 6.59375 17.96875 6.59375 36.375 \r\nQ 6.59375 54.828125 13.0625 64.515625 \r\nQ 19.53125 74.21875 31.78125 74.21875 \r\nz\r\n\" id=\"DejaVuSans-48\"/>\r\n     </defs>\r\n     <g transform=\"translate(61.701079 254.957015)scale(0.1 -0.1)\">\r\n      <use xlink:href=\"#DejaVuSans-49\"/>\r\n      <use x=\"63.623047\" xlink:href=\"#DejaVuSans-46\"/>\r\n      <use x=\"95.410156\" xlink:href=\"#DejaVuSans-48\"/>\r\n     </g>\r\n    </g>\r\n   </g>\r\n   <g id=\"xtick_2\">\r\n    <g id=\"line2d_3\">\r\n     <path d=\"M 108.006436 240.212737 \r\nL 104.856963 242.074311 \r\n\" style=\"fill:none;stroke:#000000;stroke-linecap:square;stroke-width:0.8;\"/>\r\n    </g>\r\n    <g id=\"text_3\">\r\n     <!-- 1.5 -->\r\n     <defs>\r\n      <path d=\"M 10.796875 72.90625 \r\nL 49.515625 72.90625 \r\nL 49.515625 64.59375 \r\nL 19.828125 64.59375 \r\nL 19.828125 46.734375 \r\nQ 21.96875 47.46875 24.109375 47.828125 \r\nQ 26.265625 48.1875 28.421875 48.1875 \r\nQ 40.625 48.1875 47.75 41.5 \r\nQ 54.890625 34.8125 54.890625 23.390625 \r\nQ 54.890625 11.625 47.5625 5.09375 \r\nQ 40.234375 -1.421875 26.90625 -1.421875 \r\nQ 22.3125 -1.421875 17.546875 -0.640625 \r\nQ 12.796875 0.140625 7.71875 1.703125 \r\nL 7.71875 11.625 \r\nQ 12.109375 9.234375 16.796875 8.0625 \r\nQ 21.484375 6.890625 26.703125 6.890625 \r\nQ 35.15625 6.890625 40.078125 11.328125 \r\nQ 45.015625 15.765625 45.015625 23.390625 \r\nQ 45.015625 31 40.078125 35.4375 \r\nQ 35.15625 39.890625 26.703125 39.890625 \r\nQ 22.75 39.890625 18.8125 39.015625 \r\nQ 14.890625 38.140625 10.796875 36.28125 \r\nz\r\n\" id=\"DejaVuSans-53\"/>\r\n     </defs>\r\n     <g transform=\"translate(91.340441 261.520053)scale(0.1 -0.1)\">\r\n      <use xlink:href=\"#DejaVuSans-49\"/>\r\n      <use x=\"63.623047\" xlink:href=\"#DejaVuSans-46\"/>\r\n      <use x=\"95.410156\" xlink:href=\"#DejaVuSans-53\"/>\r\n     </g>\r\n    </g>\r\n   </g>\r\n   <g id=\"xtick_3\">\r\n    <g id=\"line2d_4\">\r\n     <path d=\"M 138.028254 246.757259 \r\nL 134.914686 248.643508 \r\n\" style=\"fill:none;stroke:#000000;stroke-linecap:square;stroke-width:0.8;\"/>\r\n    </g>\r\n    <g id=\"text_4\">\r\n     <!-- 2.0 -->\r\n     <defs>\r\n      <path d=\"M 19.1875 8.296875 \r\nL 53.609375 8.296875 \r\nL 53.609375 0 \r\nL 7.328125 0 \r\nL 7.328125 8.296875 \r\nQ 12.9375 14.109375 22.625 23.890625 \r\nQ 32.328125 33.6875 34.8125 36.53125 \r\nQ 39.546875 41.84375 41.421875 45.53125 \r\nQ 43.3125 49.21875 43.3125 52.78125 \r\nQ 43.3125 58.59375 39.234375 62.25 \r\nQ 35.15625 65.921875 28.609375 65.921875 \r\nQ 23.96875 65.921875 18.8125 64.3125 \r\nQ 13.671875 62.703125 7.8125 59.421875 \r\nL 7.8125 69.390625 \r\nQ 13.765625 71.78125 18.9375 73 \r\nQ 24.125 74.21875 28.421875 74.21875 \r\nQ 39.75 74.21875 46.484375 68.546875 \r\nQ 53.21875 62.890625 53.21875 53.421875 \r\nQ 53.21875 48.921875 51.53125 44.890625 \r\nQ 49.859375 40.875 45.40625 35.40625 \r\nQ 44.1875 33.984375 37.640625 27.21875 \r\nQ 31.109375 20.453125 19.1875 8.296875 \r\nz\r\n\" id=\"DejaVuSans-50\"/>\r\n     </defs>\r\n     <g transform=\"translate(121.371878 268.169908)scale(0.1 -0.1)\">\r\n      <use xlink:href=\"#DejaVuSans-50\"/>\r\n      <use x=\"63.623047\" xlink:href=\"#DejaVuSans-46\"/>\r\n      <use x=\"95.410156\" xlink:href=\"#DejaVuSans-48\"/>\r\n     </g>\r\n    </g>\r\n   </g>\r\n   <g id=\"xtick_4\">\r\n    <g id=\"line2d_5\">\r\n     <path d=\"M 168.44895 253.388734 \r\nL 165.372524 255.300151 \r\n\" style=\"fill:none;stroke:#000000;stroke-linecap:square;stroke-width:0.8;\"/>\r\n    </g>\r\n    <g id=\"text_5\">\r\n     <!-- 2.5 -->\r\n     <g transform=\"translate(151.803222 274.908315)scale(0.1 -0.1)\">\r\n      <use xlink:href=\"#DejaVuSans-50\"/>\r\n      <use x=\"63.623047\" xlink:href=\"#DejaVuSans-46\"/>\r\n      <use x=\"95.410156\" xlink:href=\"#DejaVuSans-53\"/>\r\n     </g>\r\n    </g>\r\n   </g>\r\n   <g id=\"xtick_5\">\r\n    <g id=\"line2d_6\">\r\n     <path d=\"M 199.276528 260.108905 \r\nL 196.23852 262.045998 \r\n\" style=\"fill:none;stroke:#000000;stroke-linecap:square;stroke-width:0.8;\"/>\r\n    </g>\r\n    <g id=\"text_6\">\r\n     <!-- 3.0 -->\r\n     <defs>\r\n      <path d=\"M 40.578125 39.3125 \r\nQ 47.65625 37.796875 51.625 33 \r\nQ 55.609375 28.21875 55.609375 21.1875 \r\nQ 55.609375 10.40625 48.1875 4.484375 \r\nQ 40.765625 -1.421875 27.09375 -1.421875 \r\nQ 22.515625 -1.421875 17.65625 -0.515625 \r\nQ 12.796875 0.390625 7.625 2.203125 \r\nL 7.625 11.71875 \r\nQ 11.71875 9.328125 16.59375 8.109375 \r\nQ 21.484375 6.890625 26.8125 6.890625 \r\nQ 36.078125 6.890625 40.9375 10.546875 \r\nQ 45.796875 14.203125 45.796875 21.1875 \r\nQ 45.796875 27.640625 41.28125 31.265625 \r\nQ 36.765625 34.90625 28.71875 34.90625 \r\nL 20.21875 34.90625 \r\nL 20.21875 43.015625 \r\nL 29.109375 43.015625 \r\nQ 36.375 43.015625 40.234375 45.921875 \r\nQ 44.09375 48.828125 44.09375 54.296875 \r\nQ 44.09375 59.90625 40.109375 62.90625 \r\nQ 36.140625 65.921875 28.71875 65.921875 \r\nQ 24.65625 65.921875 20.015625 65.03125 \r\nQ 15.375 64.15625 9.8125 62.3125 \r\nL 9.8125 71.09375 \r\nQ 15.4375 72.65625 20.34375 73.4375 \r\nQ 25.25 74.21875 29.59375 74.21875 \r\nQ 40.828125 74.21875 47.359375 69.109375 \r\nQ 53.90625 64.015625 53.90625 55.328125 \r\nQ 53.90625 49.265625 50.4375 45.09375 \r\nQ 46.96875 40.921875 40.578125 39.3125 \r\nz\r\n\" id=\"DejaVuSans-51\"/>\r\n     </defs>\r\n     <g transform=\"translate(182.642512 281.737053)scale(0.1 -0.1)\">\r\n      <use xlink:href=\"#DejaVuSans-51\"/>\r\n      <use x=\"63.623047\" xlink:href=\"#DejaVuSans-46\"/>\r\n      <use x=\"95.410156\" xlink:href=\"#DejaVuSans-48\"/>\r\n     </g>\r\n    </g>\r\n   </g>\r\n   <g id=\"xtick_6\">\r\n    <g id=\"line2d_7\">\r\n     <path d=\"M 230.519205 266.919565 \r\nL 227.520934 268.882854 \r\n\" style=\"fill:none;stroke:#000000;stroke-linecap:square;stroke-width:0.8;\"/>\r\n    </g>\r\n    <g id=\"text_7\">\r\n     <!-- 3.5 -->\r\n     <g transform=\"translate(213.89801 288.657952)scale(0.1 -0.1)\">\r\n      <use xlink:href=\"#DejaVuSans-51\"/>\r\n      <use x=\"63.623047\" xlink:href=\"#DejaVuSans-46\"/>\r\n      <use x=\"95.410156\" xlink:href=\"#DejaVuSans-53\"/>\r\n     </g>\r\n    </g>\r\n   </g>\r\n   <g id=\"xtick_7\">\r\n    <g id=\"line2d_8\">\r\n     <path d=\"M 262.185423 273.822553 \r\nL 259.22825 275.812574 \r\n\" style=\"fill:none;stroke:#000000;stroke-linecap:square;stroke-width:0.8;\"/>\r\n    </g>\r\n    <g id=\"text_8\">\r\n     <!-- 4.0 -->\r\n     <defs>\r\n      <path d=\"M 37.796875 64.3125 \r\nL 12.890625 25.390625 \r\nL 37.796875 25.390625 \r\nz\r\nM 35.203125 72.90625 \r\nL 47.609375 72.90625 \r\nL 47.609375 25.390625 \r\nL 58.015625 25.390625 \r\nL 58.015625 17.1875 \r\nL 47.609375 17.1875 \r\nL 47.609375 0 \r\nL 37.796875 0 \r\nL 37.796875 17.1875 \r\nL 4.890625 17.1875 \r\nL 4.890625 26.703125 \r\nz\r\n\" id=\"DejaVuSans-52\"/>\r\n     </defs>\r\n     <g transform=\"translate(245.578196 295.672889)scale(0.1 -0.1)\">\r\n      <use xlink:href=\"#DejaVuSans-52\"/>\r\n      <use x=\"63.623047\" xlink:href=\"#DejaVuSans-46\"/>\r\n      <use x=\"95.410156\" xlink:href=\"#DejaVuSans-48\"/>\r\n     </g>\r\n    </g>\r\n   </g>\r\n  </g>\r\n  <g id=\"axis3d_2\">\r\n   <g id=\"line2d_9\">\r\n    <path d=\"M 388.395181 200.427223 \r\nL 275.196469 277.538555 \r\n\" style=\"fill:none;stroke:#000000;stroke-linecap:square;stroke-width:0.8;\"/>\r\n   </g>\r\n   <g id=\"text_9\">\r\n    <!-- Y -->\r\n    <defs>\r\n     <path d=\"M -0.203125 72.90625 \r\nL 10.40625 72.90625 \r\nL 30.609375 42.921875 \r\nL 50.6875 72.90625 \r\nL 61.28125 72.90625 \r\nL 35.5 34.71875 \r\nL 35.5 0 \r\nL 25.59375 0 \r\nL 25.59375 34.71875 \r\nz\r\n\" id=\"DejaVuSans-89\"/>\r\n    </defs>\r\n    <g transform=\"translate(358.81165 264.182002)scale(0.1 -0.1)\">\r\n     <use xlink:href=\"#DejaVuSans-89\"/>\r\n    </g>\r\n   </g>\r\n   <g id=\"Line3DCollection_2\">\r\n    <path d=\"M 64.454143 85.123372 \r\nL 72.903663 226.744707 \r\nL 282.943623 272.261169 \r\n\" style=\"fill:none;stroke:#b0b0b0;stroke-width:0.8;\"/>\r\n    <path d=\"M 84.541443 75.360504 \r\nL 91.877533 215.908746 \r\nL 300.356469 260.399481 \r\n\" style=\"fill:none;stroke:#b0b0b0;stroke-width:0.8;\"/>\r\n    <path d=\"M 104.16533 65.822865 \r\nL 110.435657 205.310218 \r\nL 317.370428 248.809516 \r\n\" style=\"fill:none;stroke:#b0b0b0;stroke-width:0.8;\"/>\r\n    <path d=\"M 123.341658 56.502749 \r\nL 128.591552 194.941402 \r\nL 333.99905 237.482045 \r\n\" style=\"fill:none;stroke:#b0b0b0;stroke-width:0.8;\"/>\r\n    <path d=\"M 142.085566 47.392799 \r\nL 146.358154 184.794911 \r\nL 350.25528 226.408248 \r\n\" style=\"fill:none;stroke:#b0b0b0;stroke-width:0.8;\"/>\r\n    <path d=\"M 160.411516 38.485985 \r\nL 163.747851 174.86367 \r\nL 366.151489 215.579698 \r\n\" style=\"fill:none;stroke:#b0b0b0;stroke-width:0.8;\"/>\r\n    <path d=\"M 178.333335 29.775588 \r\nL 180.772511 165.140901 \r\nL 381.699505 204.988339 \r\n\" style=\"fill:none;stroke:#b0b0b0;stroke-width:0.8;\"/>\r\n   </g>\r\n   <g id=\"xtick_8\">\r\n    <g id=\"line2d_10\">\r\n     <path d=\"M 281.185773 271.880236 \r\nL 286.463251 273.023885 \r\n\" style=\"fill:none;stroke:#000000;stroke-linecap:square;stroke-width:0.8;\"/>\r\n    </g>\r\n    <g id=\"text_10\">\r\n     <!-- 1.0 -->\r\n     <g transform=\"translate(288.290418 291.249744)scale(0.1 -0.1)\">\r\n      <use xlink:href=\"#DejaVuSans-49\"/>\r\n      <use x=\"63.623047\" xlink:href=\"#DejaVuSans-46\"/>\r\n      <use x=\"95.410156\" xlink:href=\"#DejaVuSans-48\"/>\r\n     </g>\r\n    </g>\r\n   </g>\r\n   <g id=\"xtick_9\">\r\n    <g id=\"line2d_11\">\r\n     <path d=\"M 298.612575 260.027323 \r\nL 303.84811 261.144619 \r\n\" style=\"fill:none;stroke:#000000;stroke-linecap:square;stroke-width:0.8;\"/>\r\n    </g>\r\n    <g id=\"text_11\">\r\n     <!-- 1.5 -->\r\n     <g transform=\"translate(305.541654 279.261315)scale(0.1 -0.1)\">\r\n      <use xlink:href=\"#DejaVuSans-49\"/>\r\n      <use x=\"63.623047\" xlink:href=\"#DejaVuSans-46\"/>\r\n      <use x=\"95.410156\" xlink:href=\"#DejaVuSans-53\"/>\r\n     </g>\r\n    </g>\r\n   </g>\r\n   <g id=\"xtick_10\">\r\n    <g id=\"line2d_12\">\r\n     <path d=\"M 315.640315 248.445833 \r\nL 320.834432 249.537677 \r\n\" style=\"fill:none;stroke:#000000;stroke-linecap:square;stroke-width:0.8;\"/>\r\n    </g>\r\n    <g id=\"text_12\">\r\n     <!-- 2.0 -->\r\n     <g transform=\"translate(322.397876 267.547395)scale(0.1 -0.1)\">\r\n      <use xlink:href=\"#DejaVuSans-50\"/>\r\n      <use x=\"63.623047\" xlink:href=\"#DejaVuSans-46\"/>\r\n      <use x=\"95.410156\" xlink:href=\"#DejaVuSans-48\"/>\r\n     </g>\r\n    </g>\r\n   </g>\r\n   <g id=\"xtick_11\">\r\n    <g id=\"line2d_13\">\r\n     <path d=\"M 332.282545 237.12655 \r\nL 337.435767 238.193801 \r\n\" style=\"fill:none;stroke:#000000;stroke-linecap:square;stroke-width:0.8;\"/>\r\n    </g>\r\n    <g id=\"text_13\">\r\n     <!-- 2.5 -->\r\n     <g transform=\"translate(338.872496 256.098661)scale(0.1 -0.1)\">\r\n      <use xlink:href=\"#DejaVuSans-50\"/>\r\n      <use x=\"63.623047\" xlink:href=\"#DejaVuSans-46\"/>\r\n      <use x=\"95.410156\" xlink:href=\"#DejaVuSans-53\"/>\r\n     </g>\r\n    </g>\r\n   </g>\r\n   <g id=\"xtick_12\">\r\n    <g id=\"line2d_14\">\r\n     <path d=\"M 348.552211 226.060668 \r\nL 353.665056 227.104148 \r\n\" style=\"fill:none;stroke:#000000;stroke-linecap:square;stroke-width:0.8;\"/>\r\n    </g>\r\n    <g id=\"text_14\">\r\n     <!-- 3.0 -->\r\n     <g transform=\"translate(354.978328 244.90621)scale(0.1 -0.1)\">\r\n      <use xlink:href=\"#DejaVuSans-51\"/>\r\n      <use x=\"63.623047\" xlink:href=\"#DejaVuSans-46\"/>\r\n      <use x=\"95.410156\" xlink:href=\"#DejaVuSans-48\"/>\r\n     </g>\r\n    </g>\r\n   </g>\r\n   <g id=\"xtick_13\">\r\n    <g id=\"line2d_15\">\r\n     <path d=\"M 364.461684 215.239773 \r\nL 369.534667 216.260267 \r\n\" style=\"fill:none;stroke:#000000;stroke-linecap:square;stroke-width:0.8;\"/>\r\n    </g>\r\n    <g id=\"text_15\">\r\n     <!-- 3.5 -->\r\n     <g transform=\"translate(370.727618 233.961531)scale(0.1 -0.1)\">\r\n      <use xlink:href=\"#DejaVuSans-51\"/>\r\n      <use x=\"63.623047\" xlink:href=\"#DejaVuSans-46\"/>\r\n      <use x=\"95.410156\" xlink:href=\"#DejaVuSans-53\"/>\r\n     </g>\r\n    </g>\r\n   </g>\r\n   <g id=\"xtick_14\">\r\n    <g id=\"line2d_16\">\r\n     <path d=\"M 380.022795 204.655817 \r\nL 385.056427 205.654077 \r\n\" style=\"fill:none;stroke:#000000;stroke-linecap:square;stroke-width:0.8;\"/>\r\n    </g>\r\n    <g id=\"text_16\">\r\n     <!-- 4.0 -->\r\n     <g transform=\"translate(386.132076 223.256487)scale(0.1 -0.1)\">\r\n      <use xlink:href=\"#DejaVuSans-52\"/>\r\n      <use x=\"63.623047\" xlink:href=\"#DejaVuSans-46\"/>\r\n      <use x=\"95.410156\" xlink:href=\"#DejaVuSans-48\"/>\r\n     </g>\r\n    </g>\r\n   </g>\r\n  </g>\r\n  <g id=\"axis3d_3\">\r\n   <g id=\"line2d_17\">\r\n    <path d=\"M 388.395181 200.427223 \r\nL 396.774918 61.432405 \r\n\" style=\"fill:none;stroke:#000000;stroke-linecap:square;stroke-width:0.8;\"/>\r\n   </g>\r\n   <g id=\"text_17\">\r\n    <!-- Z -->\r\n    <defs>\r\n     <path d=\"M 5.609375 72.90625 \r\nL 62.890625 72.90625 \r\nL 62.890625 65.375 \r\nL 16.796875 8.296875 \r\nL 64.015625 8.296875 \r\nL 64.015625 0 \r\nL 4.5 0 \r\nL 4.5 7.515625 \r\nL 50.59375 64.59375 \r\nL 5.609375 64.59375 \r\nz\r\n\" id=\"DejaVuSans-90\"/>\r\n    </defs>\r\n    <g transform=\"translate(431.743903 131.656599)scale(0.1 -0.1)\">\r\n     <use xlink:href=\"#DejaVuSans-90\"/>\r\n    </g>\r\n   </g>\r\n   <g id=\"Line3DCollection_3\">\r\n    <path d=\"M 388.554562 197.783562 \r\nL 188.0697 158.37931 \r\nL 64.298292 228.864091 \r\n\" style=\"fill:none;stroke:#b0b0b0;stroke-width:0.8;\"/>\r\n    <path d=\"M 389.41001 183.594247 \r\nL 187.859165 144.579524 \r\nL 63.38575 214.379787 \r\n\" style=\"fill:none;stroke:#b0b0b0;stroke-width:0.8;\"/>\r\n    <path d=\"M 390.274681 169.251925 \r\nL 187.646455 130.637172 \r\nL 62.463043 199.734125 \r\n\" style=\"fill:none;stroke:#b0b0b0;stroke-width:0.8;\"/>\r\n    <path d=\"M 391.148727 154.754107 \r\nL 187.431536 116.550032 \r\nL 61.529998 184.924391 \r\n\" style=\"fill:none;stroke:#b0b0b0;stroke-width:0.8;\"/>\r\n    <path d=\"M 392.032302 140.09825 \r\nL 187.214374 102.315838 \r\nL 60.586442 169.947813 \r\n\" style=\"fill:none;stroke:#b0b0b0;stroke-width:0.8;\"/>\r\n    <path d=\"M 392.92556 125.281756 \r\nL 186.994933 87.932274 \r\nL 59.632196 154.801557 \r\n\" style=\"fill:none;stroke:#b0b0b0;stroke-width:0.8;\"/>\r\n    <path d=\"M 393.828663 110.30197 \r\nL 186.773177 73.396978 \r\nL 58.667077 139.482721 \r\n\" style=\"fill:none;stroke:#b0b0b0;stroke-width:0.8;\"/>\r\n    <path d=\"M 394.741775 95.156176 \r\nL 186.549069 58.707535 \r\nL 57.690898 123.988339 \r\n\" style=\"fill:none;stroke:#b0b0b0;stroke-width:0.8;\"/>\r\n    <path d=\"M 395.665062 79.841601 \r\nL 186.322572 43.861481 \r\nL 56.703469 108.315377 \r\n\" style=\"fill:none;stroke:#b0b0b0;stroke-width:0.8;\"/>\r\n    <path d=\"M 396.598695 64.355407 \r\nL 186.093647 28.856297 \r\nL 55.704592 92.46073 \r\n\" style=\"fill:none;stroke:#b0b0b0;stroke-width:0.8;\"/>\r\n   </g>\r\n   <g id=\"xtick_15\">\r\n    <g id=\"line2d_18\">\r\n     <path d=\"M 386.881803 197.454789 \r\nL 391.903562 198.44179 \r\n\" style=\"fill:none;stroke:#000000;stroke-linecap:square;stroke-width:0.8;\"/>\r\n    </g>\r\n    <g id=\"text_18\">\r\n     <!-- 3 -->\r\n     <g transform=\"translate(404.593147 203.539744)scale(0.1 -0.1)\">\r\n      <use xlink:href=\"#DejaVuSans-51\"/>\r\n     </g>\r\n    </g>\r\n   </g>\r\n   <g id=\"xtick_16\">\r\n    <g id=\"line2d_19\">\r\n     <path d=\"M 387.727984 183.268653 \r\nL 392.777578 184.246116 \r\n\" style=\"fill:none;stroke:#000000;stroke-linecap:square;stroke-width:0.8;\"/>\r\n    </g>\r\n    <g id=\"text_19\">\r\n     <!-- 4 -->\r\n     <g transform=\"translate(405.549795 189.368255)scale(0.1 -0.1)\">\r\n      <use xlink:href=\"#DejaVuSans-52\"/>\r\n     </g>\r\n    </g>\r\n   </g>\r\n   <g id=\"xtick_17\">\r\n    <g id=\"line2d_20\">\r\n     <path d=\"M 388.583288 168.929597 \r\nL 393.661025 169.897259 \r\n\" style=\"fill:none;stroke:#000000;stroke-linecap:square;stroke-width:0.8;\"/>\r\n    </g>\r\n    <g id=\"text_20\">\r\n     <!-- 5 -->\r\n     <g transform=\"translate(406.516739 175.044249)scale(0.1 -0.1)\">\r\n      <use xlink:href=\"#DejaVuSans-53\"/>\r\n     </g>\r\n    </g>\r\n   </g>\r\n   <g id=\"xtick_18\">\r\n    <g id=\"line2d_21\">\r\n     <path d=\"M 389.447861 154.435135 \r\nL 394.554057 155.392725 \r\n\" style=\"fill:none;stroke:#000000;stroke-linecap:square;stroke-width:0.8;\"/>\r\n    </g>\r\n    <g id=\"text_21\">\r\n     <!-- 6 -->\r\n     <defs>\r\n      <path d=\"M 33.015625 40.375 \r\nQ 26.375 40.375 22.484375 35.828125 \r\nQ 18.609375 31.296875 18.609375 23.390625 \r\nQ 18.609375 15.53125 22.484375 10.953125 \r\nQ 26.375 6.390625 33.015625 6.390625 \r\nQ 39.65625 6.390625 43.53125 10.953125 \r\nQ 47.40625 15.53125 47.40625 23.390625 \r\nQ 47.40625 31.296875 43.53125 35.828125 \r\nQ 39.65625 40.375 33.015625 40.375 \r\nz\r\nM 52.59375 71.296875 \r\nL 52.59375 62.3125 \r\nQ 48.875 64.0625 45.09375 64.984375 \r\nQ 41.3125 65.921875 37.59375 65.921875 \r\nQ 27.828125 65.921875 22.671875 59.328125 \r\nQ 17.53125 52.734375 16.796875 39.40625 \r\nQ 19.671875 43.65625 24.015625 45.921875 \r\nQ 28.375 48.1875 33.59375 48.1875 \r\nQ 44.578125 48.1875 50.953125 41.515625 \r\nQ 57.328125 34.859375 57.328125 23.390625 \r\nQ 57.328125 12.15625 50.6875 5.359375 \r\nQ 44.046875 -1.421875 33.015625 -1.421875 \r\nQ 20.359375 -1.421875 13.671875 8.265625 \r\nQ 6.984375 17.96875 6.984375 36.375 \r\nQ 6.984375 53.65625 15.1875 63.9375 \r\nQ 23.390625 74.21875 37.203125 74.21875 \r\nQ 40.921875 74.21875 44.703125 73.484375 \r\nQ 48.484375 72.75 52.59375 71.296875 \r\nz\r\n\" id=\"DejaVuSans-54\"/>\r\n     </defs>\r\n     <g transform=\"translate(407.494145 160.565252)scale(0.1 -0.1)\">\r\n      <use xlink:href=\"#DejaVuSans-54\"/>\r\n     </g>\r\n    </g>\r\n   </g>\r\n   <g id=\"xtick_19\">\r\n    <g id=\"line2d_22\">\r\n     <path d=\"M 390.321855 139.782727 \r\nL 395.456831 140.729967 \r\n\" style=\"fill:none;stroke:#000000;stroke-linecap:square;stroke-width:0.8;\"/>\r\n    </g>\r\n    <g id=\"text_22\">\r\n     <!-- 7 -->\r\n     <defs>\r\n      <path d=\"M 8.203125 72.90625 \r\nL 55.078125 72.90625 \r\nL 55.078125 68.703125 \r\nL 28.609375 0 \r\nL 18.3125 0 \r\nL 43.21875 64.59375 \r\nL 8.203125 64.59375 \r\nz\r\n\" id=\"DejaVuSans-55\"/>\r\n     </defs>\r\n     <g transform=\"translate(408.482185 145.928735)scale(0.1 -0.1)\">\r\n      <use xlink:href=\"#DejaVuSans-55\"/>\r\n     </g>\r\n    </g>\r\n   </g>\r\n   <g id=\"xtick_20\">\r\n    <g id=\"line2d_23\">\r\n     <path d=\"M 391.205425 124.969777 \r\nL 396.369506 125.906382 \r\n\" style=\"fill:none;stroke:#000000;stroke-linecap:square;stroke-width:0.8;\"/>\r\n    </g>\r\n    <g id=\"text_23\">\r\n     <!-- 8 -->\r\n     <defs>\r\n      <path d=\"M 31.78125 34.625 \r\nQ 24.75 34.625 20.71875 30.859375 \r\nQ 16.703125 27.09375 16.703125 20.515625 \r\nQ 16.703125 13.921875 20.71875 10.15625 \r\nQ 24.75 6.390625 31.78125 6.390625 \r\nQ 38.8125 6.390625 42.859375 10.171875 \r\nQ 46.921875 13.96875 46.921875 20.515625 \r\nQ 46.921875 27.09375 42.890625 30.859375 \r\nQ 38.875 34.625 31.78125 34.625 \r\nz\r\nM 21.921875 38.8125 \r\nQ 15.578125 40.375 12.03125 44.71875 \r\nQ 8.5 49.078125 8.5 55.328125 \r\nQ 8.5 64.0625 14.71875 69.140625 \r\nQ 20.953125 74.21875 31.78125 74.21875 \r\nQ 42.671875 74.21875 48.875 69.140625 \r\nQ 55.078125 64.0625 55.078125 55.328125 \r\nQ 55.078125 49.078125 51.53125 44.71875 \r\nQ 48 40.375 41.703125 38.8125 \r\nQ 48.828125 37.15625 52.796875 32.3125 \r\nQ 56.78125 27.484375 56.78125 20.515625 \r\nQ 56.78125 9.90625 50.3125 4.234375 \r\nQ 43.84375 -1.421875 31.78125 -1.421875 \r\nQ 19.734375 -1.421875 13.25 4.234375 \r\nQ 6.78125 9.90625 6.78125 20.515625 \r\nQ 6.78125 27.484375 10.78125 32.3125 \r\nQ 14.796875 37.15625 21.921875 38.8125 \r\nz\r\nM 18.3125 54.390625 \r\nQ 18.3125 48.734375 21.84375 45.5625 \r\nQ 25.390625 42.390625 31.78125 42.390625 \r\nQ 38.140625 42.390625 41.71875 45.5625 \r\nQ 45.3125 48.734375 45.3125 54.390625 \r\nQ 45.3125 60.0625 41.71875 63.234375 \r\nQ 38.140625 66.40625 31.78125 66.40625 \r\nQ 25.390625 66.40625 21.84375 63.234375 \r\nQ 18.3125 60.0625 18.3125 54.390625 \r\nz\r\n\" id=\"DejaVuSans-56\"/>\r\n     </defs>\r\n     <g transform=\"translate(409.481033 131.132112)scale(0.1 -0.1)\">\r\n      <use xlink:href=\"#DejaVuSans-56\"/>\r\n     </g>\r\n    </g>\r\n   </g>\r\n   <g id=\"xtick_21\">\r\n    <g id=\"line2d_24\">\r\n     <path d=\"M 392.09873 109.993631 \r\nL 397.292248 110.91931 \r\n\" style=\"fill:none;stroke:#000000;stroke-linecap:square;stroke-width:0.8;\"/>\r\n    </g>\r\n    <g id=\"text_24\">\r\n     <!-- 9 -->\r\n     <defs>\r\n      <path d=\"M 10.984375 1.515625 \r\nL 10.984375 10.5 \r\nQ 14.703125 8.734375 18.5 7.8125 \r\nQ 22.3125 6.890625 25.984375 6.890625 \r\nQ 35.75 6.890625 40.890625 13.453125 \r\nQ 46.046875 20.015625 46.78125 33.40625 \r\nQ 43.953125 29.203125 39.59375 26.953125 \r\nQ 35.25 24.703125 29.984375 24.703125 \r\nQ 19.046875 24.703125 12.671875 31.3125 \r\nQ 6.296875 37.9375 6.296875 49.421875 \r\nQ 6.296875 60.640625 12.9375 67.421875 \r\nQ 19.578125 74.21875 30.609375 74.21875 \r\nQ 43.265625 74.21875 49.921875 64.515625 \r\nQ 56.59375 54.828125 56.59375 36.375 \r\nQ 56.59375 19.140625 48.40625 8.859375 \r\nQ 40.234375 -1.421875 26.421875 -1.421875 \r\nQ 22.703125 -1.421875 18.890625 -0.6875 \r\nQ 15.09375 0.046875 10.984375 1.515625 \r\nz\r\nM 30.609375 32.421875 \r\nQ 37.25 32.421875 41.125 36.953125 \r\nQ 45.015625 41.5 45.015625 49.421875 \r\nQ 45.015625 57.28125 41.125 61.84375 \r\nQ 37.25 66.40625 30.609375 66.40625 \r\nQ 23.96875 66.40625 20.09375 61.84375 \r\nQ 16.21875 57.28125 16.21875 49.421875 \r\nQ 16.21875 41.5 20.09375 36.953125 \r\nQ 23.96875 32.421875 30.609375 32.421875 \r\nz\r\n\" id=\"DejaVuSans-57\"/>\r\n     </defs>\r\n     <g transform=\"translate(410.490866 116.172743)scale(0.1 -0.1)\">\r\n      <use xlink:href=\"#DejaVuSans-57\"/>\r\n     </g>\r\n    </g>\r\n   </g>\r\n   <g id=\"xtick_22\">\r\n    <g id=\"line2d_25\">\r\n     <path d=\"M 393.001931 94.851579 \r\nL 398.225223 95.766029 \r\n\" style=\"fill:none;stroke:#000000;stroke-linecap:square;stroke-width:0.8;\"/>\r\n    </g>\r\n    <g id=\"text_25\">\r\n     <!-- 10 -->\r\n     <g transform=\"translate(408.330619 101.047927)scale(0.1 -0.1)\">\r\n      <use xlink:href=\"#DejaVuSans-49\"/>\r\n      <use x=\"63.623047\" xlink:href=\"#DejaVuSans-48\"/>\r\n     </g>\r\n    </g>\r\n   </g>\r\n   <g id=\"xtick_23\">\r\n    <g id=\"line2d_26\">\r\n     <path d=\"M 393.915193 79.540848 \r\nL 399.168602 80.443762 \r\n\" style=\"fill:none;stroke:#000000;stroke-linecap:square;stroke-width:0.8;\"/>\r\n    </g>\r\n    <g id=\"text_26\">\r\n     <!-- 11 -->\r\n     <g transform=\"translate(409.362976 85.754904)scale(0.1 -0.1)\">\r\n      <use xlink:href=\"#DejaVuSans-49\"/>\r\n      <use x=\"63.623047\" xlink:href=\"#DejaVuSans-49\"/>\r\n     </g>\r\n    </g>\r\n   </g>\r\n   <g id=\"xtick_24\">\r\n    <g id=\"line2d_27\">\r\n     <path d=\"M 394.838686 64.058603 \r\nL 400.122561 64.949664 \r\n\" style=\"fill:none;stroke:#000000;stroke-linecap:square;stroke-width:0.8;\"/>\r\n    </g>\r\n    <g id=\"text_27\">\r\n     <!-- 12 -->\r\n     <g transform=\"translate(410.406878 70.290854)scale(0.1 -0.1)\">\r\n      <use xlink:href=\"#DejaVuSans-49\"/>\r\n      <use x=\"63.623047\" xlink:href=\"#DejaVuSans-50\"/>\r\n     </g>\r\n    </g>\r\n   </g>\r\n  </g>\r\n  <g id=\"axes_1\">\r\n   <g id=\"Poly3DCollection_1\">\r\n    <path clip-path=\"url(#pdb369af920)\" d=\"M 157.998305 156.443378 \r\nL 216.350215 138.862526 \r\nL 250.649857 104.887293 \r\nL 192.458786 122.959073 \r\nz\r\n\" style=\"fill:#2adddd;\"/>\r\n    <path clip-path=\"url(#pdb369af920)\" d=\"M 122.386302 191.046584 \r\nL 180.87675 174.000481 \r\nL 216.350215 138.862526 \r\nL 157.998305 156.443378 \r\nz\r\n\" style=\"fill:#2c7ef7;\"/>\r\n    <path clip-path=\"url(#pdb369af920)\" d=\"M 216.350215 138.862526 \r\nL 277.540195 120.426593 \r\nL 311.623228 85.951444 \r\nL 250.649857 104.887293 \r\nz\r\n\" style=\"fill:#d4dd80;\"/>\r\n    <path clip-path=\"url(#pdb369af920)\" d=\"M 85.564078 226.825728 \r\nL 144.168156 210.361882 \r\nL 180.87675 174.000481 \r\nL 122.386302 191.046584 \r\nz\r\n\" style=\"fill:#8000ff;\"/>\r\n    <path clip-path=\"url(#pdb369af920)\" d=\"M 180.87675 174.000481 \r\nL 242.26189 156.110766 \r\nL 277.540195 120.426593 \r\nL 216.350215 138.862526 \r\nz\r\n\" style=\"fill:#80ffb4;\"/>\r\n    <path clip-path=\"url(#pdb369af920)\" d=\"M 277.540195 120.426593 \r\nL 341.780459 101.07164 \r\nL 375.583332 66.088037 \r\nL 311.623228 85.951444 \r\nz\r\n\" style=\"fill:#ff0000;\"/>\r\n    <path clip-path=\"url(#pdb369af920)\" d=\"M 144.168156 210.361882 \r\nL 205.724312 193.068699 \r\nL 242.26189 156.110766 \r\nL 180.87675 174.000481 \r\nz\r\n\" style=\"fill:#2adddd;\"/>\r\n    <path clip-path=\"url(#pdb369af920)\" d=\"M 242.26189 156.110766 \r\nL 306.762059 137.313227 \r\nL 341.780459 101.07164 \r\nL 277.540195 120.426593 \r\nz\r\n\" style=\"fill:#ff7e41;\"/>\r\n    <path clip-path=\"url(#pdb369af920)\" d=\"M 205.724312 193.068699 \r\nL 270.461368 174.881895 \r\nL 306.762059 137.313227 \r\nL 242.26189 156.110766 \r\nz\r\n\" style=\"fill:#d4dd80;\"/>\r\n   </g>\r\n  </g>\r\n </g>\r\n <defs>\r\n  <clipPath id=\"pdb369af920\">\r\n   <rect height=\"288\" width=\"432\" x=\"7.2\" y=\"7.2\"/>\r\n  </clipPath>\r\n </defs>\r\n</svg>\r\n",
      "image/png": "[encoded data removed]"
     },
     "metadata": {
      "needs_background": "light"
     }
    }
   ],
   "source": [
    "fig = plt.figure()\n",
    "ax3d = Axes3D(fig)\n",
    "y = np.arange(1, 5)\n",
    "x = np.arange(1, 5)\n",
    "X, Y = np.meshgrid(x, y)\n",
    "Z = 2 * X + Y\n",
    "ax3d.plot_surface(X, Y, Z, cmap='rainbow')\n",
    "\n",
    "ax3d.set_xlabel('X')\n",
    "ax3d.set_ylabel('Y')\n",
    "ax3d.set_zlabel('Z')\n",
    "plt.show()"
   ]
  },
  {
   "cell_type": "code",
   "execution_count": 37,
   "metadata": {},
   "outputs": [
    {
     "output_type": "stream",
     "name": "stdout",
     "text": "tf.Tensor(\n[[ 0.41692325 -1.0249679  -1.8075167   1.2868272  -2.2956905   3.9462476\n  -5.3096023   0.35965377 -0.31002638  0.24586453 -2.207843    0.3409186\n   1.0253646  -3.7724562  -2.1385753  -0.331081    1.0683752  -3.956645\n  -1.677431    0.5549912 ]\n [ 2.2980406  -0.701167   -3.8825808   0.647607   -0.32780796 -0.5302241\n   1.2779855   1.2921813  -1.7960198   0.6218469   1.5149015   1.1291534\n   3.953756   -0.460487   -1.8076495  -2.6745605   1.7808062   0.4944013\n  -1.7611735   1.5139705 ]\n [-0.05578948 -0.66260546  1.5419174  -2.192451   -1.647729   -1.9082941\n  -3.5751274   1.2939101  -2.4571774   2.538728   -0.7620807  -0.63565755\n  -3.2968905   3.1314838   3.1177158  -1.5065967  -2.475411    0.48272058\n   0.47333142 -4.392992  ]\n [-0.52081245 -0.69346064  0.94945216  4.810606   -0.17826827 -0.07364645\n   2.0288122  -0.6460522  -0.9619609  -0.1469687  -0.2804302  -3.1088233\n   0.35362348  2.7363484  -1.9652767   0.6840746  -1.1709111  -2.6058328\n   2.0488915  -0.45835343]\n [ 0.40402022  1.3926101  -2.0948806  -0.6213367   2.438403   -3.501021\n  -2.9416072  -3.552876   -2.1895      2.5119693   2.2999458  -0.7124315\n   1.2985581  -0.87791604 -0.822041    1.6607257  -2.2884178  -2.4253738\n   1.8886629  -4.956993  ]\n [ 0.37873968 -1.0798322  -2.2087266   0.64519215  0.9043907   1.9783529\n   4.324735    1.008504   -1.7161845  -0.56159776  0.833814   -0.05859483\n   0.03037571  2.0970898   2.4832544   0.8412453  -2.1395206  -3.8876796\n  -2.9922142   0.4241159 ]\n [ 2.1354263   1.1050918   5.1282516  -0.4104994  -3.7752485   3.1000566\n   4.2932806  -4.436989    0.92192274  1.001082   -1.6731006   0.19902296\n  -1.1658036   0.6939183  -1.898164   -0.08424542 -3.427579   -3.9005392\n   0.22616675 -1.590615  ]\n [ 0.8135353  -0.26771596  1.2336736   0.14090666 -0.26382494 -0.5900035\n   2.073955   -2.990869    1.5600094  -3.1340582   2.2368107  -1.4095958\n   3.8002307   2.3673828  -3.17334     1.2730188   2.1813362  -1.9812129\n   2.228136   -1.3253242 ]\n [-2.764235   -1.3496153  -1.8809878   1.7630996   0.80784357 -0.6341688\n  -0.97130346 -4.654016   -1.7861499  -0.3102624   0.25905687 -0.30697507\n  -1.3568938  -1.3101026   4.050238   -0.20268276  1.1274095  -1.9108264\n  -0.98666304  0.5694148 ]\n [ 0.7868987  -4.1794724   0.36519572 -1.4687804   1.091044    3.1502528\n   2.1389656  -0.44807753  0.34476003  0.5053253   3.6951952   3.36266\n  -0.6857101   2.0677147  -1.3525957  -2.3008184  -3.0655901  -1.2752899\n  -1.442672    0.32953614]], shape=(10, 20), dtype=float32)\n"
    }
   ],
   "source": [
    "import tensorflow as tf\n",
    "x = tf.random.normal(shape=[10, 20], mean=0, stddev=2)\n",
    "print(x)"
   ]
  },
  {
   "cell_type": "code",
   "execution_count": null,
   "metadata": {},
   "outputs": [],
   "source": []
  }
 ],
 "metadata": {
  "kernelspec": {
   "display_name": "Python 3",
   "language": "python",
   "name": "python3"
  },
  "language_info": {
   "codemirror_mode": {
    "name": "ipython",
    "version": 3
   },
   "file_extension": ".py",
   "mimetype": "text/x-python",
   "name": "python",
   "nbconvert_exporter": "python",
   "pygments_lexer": "ipython3",
   "version": "3.7.7-final"
  }
 },
 "nbformat": 4,
 "nbformat_minor": 2
}